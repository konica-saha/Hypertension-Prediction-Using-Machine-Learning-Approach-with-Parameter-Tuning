{
 "cells": [
  {
   "cell_type": "code",
   "execution_count": 1,
   "id": "6769b85c",
   "metadata": {
    "scrolled": true
   },
   "outputs": [],
   "source": [
    "import numpy \n",
    "import pandas as pd\n",
    "import seaborn\n",
    "import xgboost\n",
    "import matplotlib.pyplot as plt\n",
    "\n",
    "from sklearn.model_selection import train_test_split\n",
    "from sklearn.ensemble import RandomForestClassifier\n",
    "from sklearn.naive_bayes import GaussianNB\n",
    "from sklearn.neighbors import KNeighborsClassifier\n",
    "from sklearn.svm import SVC\n",
    "from sklearn.tree import DecisionTreeClassifier\n",
    "from sklearn.linear_model import LogisticRegression\n",
    "from sklearn.ensemble import GradientBoostingClassifier\n",
    "from sklearn.ensemble import AdaBoostClassifier\n",
    "from sklearn.ensemble import VotingClassifier\n",
    "from sklearn.datasets import make_classification\n",
    "from sklearn import metrics\n",
    "from sklearn.metrics import accuracy_score, precision_score, recall_score, f1_score, roc_auc_score\n",
    "from sklearn.metrics import confusion_matrix, plot_roc_curve\n",
    "from sklearn.metrics import classification_report"
   ]
  },
  {
   "cell_type": "code",
   "execution_count": 2,
   "id": "d0e713b9",
   "metadata": {},
   "outputs": [],
   "source": [
    "df = pd.read_csv(\"hypertension_data.csv\")"
   ]
  },
  {
   "cell_type": "code",
   "execution_count": 3,
   "id": "45b56e82",
   "metadata": {},
   "outputs": [
    {
     "data": {
      "text/html": [
       "<div>\n",
       "<style scoped>\n",
       "    .dataframe tbody tr th:only-of-type {\n",
       "        vertical-align: middle;\n",
       "    }\n",
       "\n",
       "    .dataframe tbody tr th {\n",
       "        vertical-align: top;\n",
       "    }\n",
       "\n",
       "    .dataframe thead th {\n",
       "        text-align: right;\n",
       "    }\n",
       "</style>\n",
       "<table border=\"1\" class=\"dataframe\">\n",
       "  <thead>\n",
       "    <tr style=\"text-align: right;\">\n",
       "      <th></th>\n",
       "      <th>age</th>\n",
       "      <th>sex</th>\n",
       "      <th>cp</th>\n",
       "      <th>trestbps</th>\n",
       "      <th>chol</th>\n",
       "      <th>fbs</th>\n",
       "      <th>restecg</th>\n",
       "      <th>thalach</th>\n",
       "      <th>exang</th>\n",
       "      <th>oldpeak</th>\n",
       "      <th>slope</th>\n",
       "      <th>ca</th>\n",
       "      <th>thal</th>\n",
       "      <th>target</th>\n",
       "    </tr>\n",
       "  </thead>\n",
       "  <tbody>\n",
       "    <tr>\n",
       "      <th>0</th>\n",
       "      <td>57.0</td>\n",
       "      <td>1.0</td>\n",
       "      <td>3</td>\n",
       "      <td>145</td>\n",
       "      <td>233</td>\n",
       "      <td>1</td>\n",
       "      <td>0</td>\n",
       "      <td>150</td>\n",
       "      <td>0</td>\n",
       "      <td>2.3</td>\n",
       "      <td>0</td>\n",
       "      <td>0</td>\n",
       "      <td>1</td>\n",
       "      <td>1</td>\n",
       "    </tr>\n",
       "    <tr>\n",
       "      <th>1</th>\n",
       "      <td>64.0</td>\n",
       "      <td>0.0</td>\n",
       "      <td>2</td>\n",
       "      <td>130</td>\n",
       "      <td>250</td>\n",
       "      <td>0</td>\n",
       "      <td>1</td>\n",
       "      <td>187</td>\n",
       "      <td>0</td>\n",
       "      <td>3.5</td>\n",
       "      <td>0</td>\n",
       "      <td>0</td>\n",
       "      <td>2</td>\n",
       "      <td>1</td>\n",
       "    </tr>\n",
       "    <tr>\n",
       "      <th>2</th>\n",
       "      <td>52.0</td>\n",
       "      <td>1.0</td>\n",
       "      <td>1</td>\n",
       "      <td>130</td>\n",
       "      <td>204</td>\n",
       "      <td>0</td>\n",
       "      <td>0</td>\n",
       "      <td>172</td>\n",
       "      <td>0</td>\n",
       "      <td>1.4</td>\n",
       "      <td>2</td>\n",
       "      <td>0</td>\n",
       "      <td>2</td>\n",
       "      <td>1</td>\n",
       "    </tr>\n",
       "    <tr>\n",
       "      <th>3</th>\n",
       "      <td>56.0</td>\n",
       "      <td>0.0</td>\n",
       "      <td>1</td>\n",
       "      <td>120</td>\n",
       "      <td>236</td>\n",
       "      <td>0</td>\n",
       "      <td>1</td>\n",
       "      <td>178</td>\n",
       "      <td>0</td>\n",
       "      <td>0.8</td>\n",
       "      <td>2</td>\n",
       "      <td>0</td>\n",
       "      <td>2</td>\n",
       "      <td>1</td>\n",
       "    </tr>\n",
       "    <tr>\n",
       "      <th>4</th>\n",
       "      <td>66.0</td>\n",
       "      <td>0.0</td>\n",
       "      <td>0</td>\n",
       "      <td>120</td>\n",
       "      <td>354</td>\n",
       "      <td>0</td>\n",
       "      <td>1</td>\n",
       "      <td>163</td>\n",
       "      <td>1</td>\n",
       "      <td>0.6</td>\n",
       "      <td>2</td>\n",
       "      <td>0</td>\n",
       "      <td>2</td>\n",
       "      <td>1</td>\n",
       "    </tr>\n",
       "    <tr>\n",
       "      <th>...</th>\n",
       "      <td>...</td>\n",
       "      <td>...</td>\n",
       "      <td>...</td>\n",
       "      <td>...</td>\n",
       "      <td>...</td>\n",
       "      <td>...</td>\n",
       "      <td>...</td>\n",
       "      <td>...</td>\n",
       "      <td>...</td>\n",
       "      <td>...</td>\n",
       "      <td>...</td>\n",
       "      <td>...</td>\n",
       "      <td>...</td>\n",
       "      <td>...</td>\n",
       "    </tr>\n",
       "    <tr>\n",
       "      <th>26078</th>\n",
       "      <td>72.0</td>\n",
       "      <td>0.0</td>\n",
       "      <td>0</td>\n",
       "      <td>138</td>\n",
       "      <td>294</td>\n",
       "      <td>1</td>\n",
       "      <td>1</td>\n",
       "      <td>106</td>\n",
       "      <td>0</td>\n",
       "      <td>1.9</td>\n",
       "      <td>1</td>\n",
       "      <td>3</td>\n",
       "      <td>2</td>\n",
       "      <td>0</td>\n",
       "    </tr>\n",
       "    <tr>\n",
       "      <th>26079</th>\n",
       "      <td>60.0</td>\n",
       "      <td>1.0</td>\n",
       "      <td>0</td>\n",
       "      <td>144</td>\n",
       "      <td>200</td>\n",
       "      <td>0</td>\n",
       "      <td>0</td>\n",
       "      <td>126</td>\n",
       "      <td>1</td>\n",
       "      <td>0.9</td>\n",
       "      <td>1</td>\n",
       "      <td>0</td>\n",
       "      <td>3</td>\n",
       "      <td>0</td>\n",
       "    </tr>\n",
       "    <tr>\n",
       "      <th>26080</th>\n",
       "      <td>68.0</td>\n",
       "      <td>1.0</td>\n",
       "      <td>0</td>\n",
       "      <td>100</td>\n",
       "      <td>234</td>\n",
       "      <td>0</td>\n",
       "      <td>1</td>\n",
       "      <td>156</td>\n",
       "      <td>0</td>\n",
       "      <td>0.1</td>\n",
       "      <td>2</td>\n",
       "      <td>1</td>\n",
       "      <td>3</td>\n",
       "      <td>0</td>\n",
       "    </tr>\n",
       "    <tr>\n",
       "      <th>26081</th>\n",
       "      <td>67.0</td>\n",
       "      <td>1.0</td>\n",
       "      <td>1</td>\n",
       "      <td>154</td>\n",
       "      <td>232</td>\n",
       "      <td>0</td>\n",
       "      <td>0</td>\n",
       "      <td>164</td>\n",
       "      <td>0</td>\n",
       "      <td>0.0</td>\n",
       "      <td>2</td>\n",
       "      <td>1</td>\n",
       "      <td>2</td>\n",
       "      <td>0</td>\n",
       "    </tr>\n",
       "    <tr>\n",
       "      <th>26082</th>\n",
       "      <td>67.0</td>\n",
       "      <td>0.0</td>\n",
       "      <td>1</td>\n",
       "      <td>130</td>\n",
       "      <td>236</td>\n",
       "      <td>0</td>\n",
       "      <td>0</td>\n",
       "      <td>174</td>\n",
       "      <td>0</td>\n",
       "      <td>0.0</td>\n",
       "      <td>1</td>\n",
       "      <td>1</td>\n",
       "      <td>2</td>\n",
       "      <td>0</td>\n",
       "    </tr>\n",
       "  </tbody>\n",
       "</table>\n",
       "<p>26083 rows × 14 columns</p>\n",
       "</div>"
      ],
      "text/plain": [
       "        age  sex  cp  trestbps  chol  fbs  restecg  thalach  exang  oldpeak  \\\n",
       "0      57.0  1.0   3       145   233    1        0      150      0      2.3   \n",
       "1      64.0  0.0   2       130   250    0        1      187      0      3.5   \n",
       "2      52.0  1.0   1       130   204    0        0      172      0      1.4   \n",
       "3      56.0  0.0   1       120   236    0        1      178      0      0.8   \n",
       "4      66.0  0.0   0       120   354    0        1      163      1      0.6   \n",
       "...     ...  ...  ..       ...   ...  ...      ...      ...    ...      ...   \n",
       "26078  72.0  0.0   0       138   294    1        1      106      0      1.9   \n",
       "26079  60.0  1.0   0       144   200    0        0      126      1      0.9   \n",
       "26080  68.0  1.0   0       100   234    0        1      156      0      0.1   \n",
       "26081  67.0  1.0   1       154   232    0        0      164      0      0.0   \n",
       "26082  67.0  0.0   1       130   236    0        0      174      0      0.0   \n",
       "\n",
       "       slope  ca  thal  target  \n",
       "0          0   0     1       1  \n",
       "1          0   0     2       1  \n",
       "2          2   0     2       1  \n",
       "3          2   0     2       1  \n",
       "4          2   0     2       1  \n",
       "...      ...  ..   ...     ...  \n",
       "26078      1   3     2       0  \n",
       "26079      1   0     3       0  \n",
       "26080      2   1     3       0  \n",
       "26081      2   1     2       0  \n",
       "26082      1   1     2       0  \n",
       "\n",
       "[26083 rows x 14 columns]"
      ]
     },
     "execution_count": 3,
     "metadata": {},
     "output_type": "execute_result"
    }
   ],
   "source": [
    "df"
   ]
  },
  {
   "cell_type": "code",
   "execution_count": 4,
   "id": "a486b1ff",
   "metadata": {},
   "outputs": [
    {
     "data": {
      "text/html": [
       "<div>\n",
       "<style scoped>\n",
       "    .dataframe tbody tr th:only-of-type {\n",
       "        vertical-align: middle;\n",
       "    }\n",
       "\n",
       "    .dataframe tbody tr th {\n",
       "        vertical-align: top;\n",
       "    }\n",
       "\n",
       "    .dataframe thead th {\n",
       "        text-align: right;\n",
       "    }\n",
       "</style>\n",
       "<table border=\"1\" class=\"dataframe\">\n",
       "  <thead>\n",
       "    <tr style=\"text-align: right;\">\n",
       "      <th></th>\n",
       "      <th>age</th>\n",
       "      <th>sex</th>\n",
       "      <th>cp</th>\n",
       "      <th>trestbps</th>\n",
       "      <th>chol</th>\n",
       "      <th>fbs</th>\n",
       "      <th>restecg</th>\n",
       "      <th>thalach</th>\n",
       "      <th>exang</th>\n",
       "      <th>oldpeak</th>\n",
       "      <th>slope</th>\n",
       "      <th>ca</th>\n",
       "      <th>thal</th>\n",
       "      <th>target</th>\n",
       "    </tr>\n",
       "  </thead>\n",
       "  <tbody>\n",
       "    <tr>\n",
       "      <th>0</th>\n",
       "      <td>57.0</td>\n",
       "      <td>1.0</td>\n",
       "      <td>3</td>\n",
       "      <td>145</td>\n",
       "      <td>233</td>\n",
       "      <td>1</td>\n",
       "      <td>0</td>\n",
       "      <td>150</td>\n",
       "      <td>0</td>\n",
       "      <td>2.3</td>\n",
       "      <td>0</td>\n",
       "      <td>0</td>\n",
       "      <td>1</td>\n",
       "      <td>1</td>\n",
       "    </tr>\n",
       "    <tr>\n",
       "      <th>1</th>\n",
       "      <td>64.0</td>\n",
       "      <td>0.0</td>\n",
       "      <td>2</td>\n",
       "      <td>130</td>\n",
       "      <td>250</td>\n",
       "      <td>0</td>\n",
       "      <td>1</td>\n",
       "      <td>187</td>\n",
       "      <td>0</td>\n",
       "      <td>3.5</td>\n",
       "      <td>0</td>\n",
       "      <td>0</td>\n",
       "      <td>2</td>\n",
       "      <td>1</td>\n",
       "    </tr>\n",
       "    <tr>\n",
       "      <th>2</th>\n",
       "      <td>52.0</td>\n",
       "      <td>1.0</td>\n",
       "      <td>1</td>\n",
       "      <td>130</td>\n",
       "      <td>204</td>\n",
       "      <td>0</td>\n",
       "      <td>0</td>\n",
       "      <td>172</td>\n",
       "      <td>0</td>\n",
       "      <td>1.4</td>\n",
       "      <td>2</td>\n",
       "      <td>0</td>\n",
       "      <td>2</td>\n",
       "      <td>1</td>\n",
       "    </tr>\n",
       "    <tr>\n",
       "      <th>3</th>\n",
       "      <td>56.0</td>\n",
       "      <td>0.0</td>\n",
       "      <td>1</td>\n",
       "      <td>120</td>\n",
       "      <td>236</td>\n",
       "      <td>0</td>\n",
       "      <td>1</td>\n",
       "      <td>178</td>\n",
       "      <td>0</td>\n",
       "      <td>0.8</td>\n",
       "      <td>2</td>\n",
       "      <td>0</td>\n",
       "      <td>2</td>\n",
       "      <td>1</td>\n",
       "    </tr>\n",
       "    <tr>\n",
       "      <th>4</th>\n",
       "      <td>66.0</td>\n",
       "      <td>0.0</td>\n",
       "      <td>0</td>\n",
       "      <td>120</td>\n",
       "      <td>354</td>\n",
       "      <td>0</td>\n",
       "      <td>1</td>\n",
       "      <td>163</td>\n",
       "      <td>1</td>\n",
       "      <td>0.6</td>\n",
       "      <td>2</td>\n",
       "      <td>0</td>\n",
       "      <td>2</td>\n",
       "      <td>1</td>\n",
       "    </tr>\n",
       "  </tbody>\n",
       "</table>\n",
       "</div>"
      ],
      "text/plain": [
       "    age  sex  cp  trestbps  chol  fbs  restecg  thalach  exang  oldpeak  \\\n",
       "0  57.0  1.0   3       145   233    1        0      150      0      2.3   \n",
       "1  64.0  0.0   2       130   250    0        1      187      0      3.5   \n",
       "2  52.0  1.0   1       130   204    0        0      172      0      1.4   \n",
       "3  56.0  0.0   1       120   236    0        1      178      0      0.8   \n",
       "4  66.0  0.0   0       120   354    0        1      163      1      0.6   \n",
       "\n",
       "   slope  ca  thal  target  \n",
       "0      0   0     1       1  \n",
       "1      0   0     2       1  \n",
       "2      2   0     2       1  \n",
       "3      2   0     2       1  \n",
       "4      2   0     2       1  "
      ]
     },
     "execution_count": 4,
     "metadata": {},
     "output_type": "execute_result"
    }
   ],
   "source": [
    "df.head()"
   ]
  },
  {
   "cell_type": "code",
   "execution_count": 5,
   "id": "47433189",
   "metadata": {},
   "outputs": [
    {
     "data": {
      "text/html": [
       "<div>\n",
       "<style scoped>\n",
       "    .dataframe tbody tr th:only-of-type {\n",
       "        vertical-align: middle;\n",
       "    }\n",
       "\n",
       "    .dataframe tbody tr th {\n",
       "        vertical-align: top;\n",
       "    }\n",
       "\n",
       "    .dataframe thead th {\n",
       "        text-align: right;\n",
       "    }\n",
       "</style>\n",
       "<table border=\"1\" class=\"dataframe\">\n",
       "  <thead>\n",
       "    <tr style=\"text-align: right;\">\n",
       "      <th></th>\n",
       "      <th>age</th>\n",
       "      <th>sex</th>\n",
       "      <th>cp</th>\n",
       "      <th>trestbps</th>\n",
       "      <th>chol</th>\n",
       "      <th>fbs</th>\n",
       "      <th>restecg</th>\n",
       "      <th>thalach</th>\n",
       "      <th>exang</th>\n",
       "      <th>oldpeak</th>\n",
       "      <th>slope</th>\n",
       "      <th>ca</th>\n",
       "      <th>thal</th>\n",
       "      <th>target</th>\n",
       "    </tr>\n",
       "  </thead>\n",
       "  <tbody>\n",
       "    <tr>\n",
       "      <th>26078</th>\n",
       "      <td>72.0</td>\n",
       "      <td>0.0</td>\n",
       "      <td>0</td>\n",
       "      <td>138</td>\n",
       "      <td>294</td>\n",
       "      <td>1</td>\n",
       "      <td>1</td>\n",
       "      <td>106</td>\n",
       "      <td>0</td>\n",
       "      <td>1.9</td>\n",
       "      <td>1</td>\n",
       "      <td>3</td>\n",
       "      <td>2</td>\n",
       "      <td>0</td>\n",
       "    </tr>\n",
       "    <tr>\n",
       "      <th>26079</th>\n",
       "      <td>60.0</td>\n",
       "      <td>1.0</td>\n",
       "      <td>0</td>\n",
       "      <td>144</td>\n",
       "      <td>200</td>\n",
       "      <td>0</td>\n",
       "      <td>0</td>\n",
       "      <td>126</td>\n",
       "      <td>1</td>\n",
       "      <td>0.9</td>\n",
       "      <td>1</td>\n",
       "      <td>0</td>\n",
       "      <td>3</td>\n",
       "      <td>0</td>\n",
       "    </tr>\n",
       "    <tr>\n",
       "      <th>26080</th>\n",
       "      <td>68.0</td>\n",
       "      <td>1.0</td>\n",
       "      <td>0</td>\n",
       "      <td>100</td>\n",
       "      <td>234</td>\n",
       "      <td>0</td>\n",
       "      <td>1</td>\n",
       "      <td>156</td>\n",
       "      <td>0</td>\n",
       "      <td>0.1</td>\n",
       "      <td>2</td>\n",
       "      <td>1</td>\n",
       "      <td>3</td>\n",
       "      <td>0</td>\n",
       "    </tr>\n",
       "    <tr>\n",
       "      <th>26081</th>\n",
       "      <td>67.0</td>\n",
       "      <td>1.0</td>\n",
       "      <td>1</td>\n",
       "      <td>154</td>\n",
       "      <td>232</td>\n",
       "      <td>0</td>\n",
       "      <td>0</td>\n",
       "      <td>164</td>\n",
       "      <td>0</td>\n",
       "      <td>0.0</td>\n",
       "      <td>2</td>\n",
       "      <td>1</td>\n",
       "      <td>2</td>\n",
       "      <td>0</td>\n",
       "    </tr>\n",
       "    <tr>\n",
       "      <th>26082</th>\n",
       "      <td>67.0</td>\n",
       "      <td>0.0</td>\n",
       "      <td>1</td>\n",
       "      <td>130</td>\n",
       "      <td>236</td>\n",
       "      <td>0</td>\n",
       "      <td>0</td>\n",
       "      <td>174</td>\n",
       "      <td>0</td>\n",
       "      <td>0.0</td>\n",
       "      <td>1</td>\n",
       "      <td>1</td>\n",
       "      <td>2</td>\n",
       "      <td>0</td>\n",
       "    </tr>\n",
       "  </tbody>\n",
       "</table>\n",
       "</div>"
      ],
      "text/plain": [
       "        age  sex  cp  trestbps  chol  fbs  restecg  thalach  exang  oldpeak  \\\n",
       "26078  72.0  0.0   0       138   294    1        1      106      0      1.9   \n",
       "26079  60.0  1.0   0       144   200    0        0      126      1      0.9   \n",
       "26080  68.0  1.0   0       100   234    0        1      156      0      0.1   \n",
       "26081  67.0  1.0   1       154   232    0        0      164      0      0.0   \n",
       "26082  67.0  0.0   1       130   236    0        0      174      0      0.0   \n",
       "\n",
       "       slope  ca  thal  target  \n",
       "26078      1   3     2       0  \n",
       "26079      1   0     3       0  \n",
       "26080      2   1     3       0  \n",
       "26081      2   1     2       0  \n",
       "26082      1   1     2       0  "
      ]
     },
     "execution_count": 5,
     "metadata": {},
     "output_type": "execute_result"
    }
   ],
   "source": [
    "df.tail()"
   ]
  },
  {
   "cell_type": "code",
   "execution_count": 6,
   "id": "6ddef09d",
   "metadata": {},
   "outputs": [
    {
     "data": {
      "text/plain": [
       "Index(['age', 'sex', 'cp', 'trestbps', 'chol', 'fbs', 'restecg', 'thalach',\n",
       "       'exang', 'oldpeak', 'slope', 'ca', 'thal', 'target'],\n",
       "      dtype='object')"
      ]
     },
     "execution_count": 6,
     "metadata": {},
     "output_type": "execute_result"
    }
   ],
   "source": [
    "df.columns"
   ]
  },
  {
   "cell_type": "code",
   "execution_count": 7,
   "id": "3067e5fe",
   "metadata": {},
   "outputs": [
    {
     "name": "stdout",
     "output_type": "stream",
     "text": [
      "<class 'pandas.core.frame.DataFrame'>\n",
      "RangeIndex: 26083 entries, 0 to 26082\n",
      "Data columns (total 14 columns):\n",
      " #   Column    Non-Null Count  Dtype  \n",
      "---  ------    --------------  -----  \n",
      " 0   age       26083 non-null  float64\n",
      " 1   sex       26058 non-null  float64\n",
      " 2   cp        26083 non-null  int64  \n",
      " 3   trestbps  26083 non-null  int64  \n",
      " 4   chol      26083 non-null  int64  \n",
      " 5   fbs       26083 non-null  int64  \n",
      " 6   restecg   26083 non-null  int64  \n",
      " 7   thalach   26083 non-null  int64  \n",
      " 8   exang     26083 non-null  int64  \n",
      " 9   oldpeak   26083 non-null  float64\n",
      " 10  slope     26083 non-null  int64  \n",
      " 11  ca        26083 non-null  int64  \n",
      " 12  thal      26083 non-null  int64  \n",
      " 13  target    26083 non-null  int64  \n",
      "dtypes: float64(3), int64(11)\n",
      "memory usage: 2.8 MB\n"
     ]
    }
   ],
   "source": [
    "df.info()"
   ]
  },
  {
   "cell_type": "code",
   "execution_count": 8,
   "id": "fb78c54c",
   "metadata": {},
   "outputs": [
    {
     "data": {
      "text/plain": [
       "age          0\n",
       "sex         25\n",
       "cp           0\n",
       "trestbps     0\n",
       "chol         0\n",
       "fbs          0\n",
       "restecg      0\n",
       "thalach      0\n",
       "exang        0\n",
       "oldpeak      0\n",
       "slope        0\n",
       "ca           0\n",
       "thal         0\n",
       "target       0\n",
       "dtype: int64"
      ]
     },
     "execution_count": 8,
     "metadata": {},
     "output_type": "execute_result"
    }
   ],
   "source": [
    "df.isna().sum()"
   ]
  },
  {
   "cell_type": "code",
   "execution_count": 9,
   "id": "0ce8bb2b",
   "metadata": {},
   "outputs": [
    {
     "name": "stdout",
     "output_type": "stream",
     "text": [
      "26083\n"
     ]
    }
   ],
   "source": [
    "rows = len(df.axes[0])\n",
    "print(rows)"
   ]
  },
  {
   "cell_type": "code",
   "execution_count": 10,
   "id": "b0405503",
   "metadata": {},
   "outputs": [
    {
     "name": "stdout",
     "output_type": "stream",
     "text": [
      "14\n"
     ]
    }
   ],
   "source": [
    "cols = len(df.axes[1])\n",
    "print(cols)"
   ]
  },
  {
   "cell_type": "code",
   "execution_count": 11,
   "id": "83fe21d6",
   "metadata": {},
   "outputs": [
    {
     "data": {
      "text/plain": [
       "(26083, 14)"
      ]
     },
     "execution_count": 11,
     "metadata": {},
     "output_type": "execute_result"
    }
   ],
   "source": [
    "df.shape"
   ]
  },
  {
   "cell_type": "code",
   "execution_count": 12,
   "id": "9e822f5c",
   "metadata": {},
   "outputs": [
    {
     "data": {
      "text/html": [
       "<div>\n",
       "<style scoped>\n",
       "    .dataframe tbody tr th:only-of-type {\n",
       "        vertical-align: middle;\n",
       "    }\n",
       "\n",
       "    .dataframe tbody tr th {\n",
       "        vertical-align: top;\n",
       "    }\n",
       "\n",
       "    .dataframe thead th {\n",
       "        text-align: right;\n",
       "    }\n",
       "</style>\n",
       "<table border=\"1\" class=\"dataframe\">\n",
       "  <thead>\n",
       "    <tr style=\"text-align: right;\">\n",
       "      <th></th>\n",
       "      <th>age</th>\n",
       "      <th>sex</th>\n",
       "      <th>cp</th>\n",
       "      <th>trestbps</th>\n",
       "      <th>chol</th>\n",
       "      <th>fbs</th>\n",
       "      <th>restecg</th>\n",
       "      <th>thalach</th>\n",
       "      <th>exang</th>\n",
       "      <th>oldpeak</th>\n",
       "      <th>slope</th>\n",
       "      <th>ca</th>\n",
       "      <th>thal</th>\n",
       "      <th>target</th>\n",
       "    </tr>\n",
       "  </thead>\n",
       "  <tbody>\n",
       "  </tbody>\n",
       "</table>\n",
       "</div>"
      ],
      "text/plain": [
       "Empty DataFrame\n",
       "Columns: [age, sex, cp, trestbps, chol, fbs, restecg, thalach, exang, oldpeak, slope, ca, thal, target]\n",
       "Index: []"
      ]
     },
     "execution_count": 12,
     "metadata": {},
     "output_type": "execute_result"
    }
   ],
   "source": [
    "duplicate = df[df.duplicated()]\n",
    "duplicate"
   ]
  },
  {
   "cell_type": "code",
   "execution_count": 13,
   "id": "e7c932ab",
   "metadata": {},
   "outputs": [
    {
     "name": "stderr",
     "output_type": "stream",
     "text": [
      "C:\\ProgramData\\Anaconda3\\lib\\site-packages\\seaborn\\_decorators.py:36: FutureWarning: Pass the following variable as a keyword arg: x. From version 0.12, the only valid positional argument will be `data`, and passing other arguments without an explicit keyword will result in an error or misinterpretation.\n",
      "  warnings.warn(\n"
     ]
    },
    {
     "data": {
      "text/plain": [
       "<AxesSubplot:xlabel='target', ylabel='count'>"
      ]
     },
     "execution_count": 13,
     "metadata": {},
     "output_type": "execute_result"
    },
    {
     "data": {
      "image/png": "[encoded data removed]",
      "text/plain": [
       "<Figure size 640x480 with 1 Axes>"
      ]
     },
     "metadata": {},
     "output_type": "display_data"
    }
   ],
   "source": [
    "seaborn.countplot(df['target'])"
   ]
  },
  {
   "cell_type": "code",
   "execution_count": 14,
   "id": "f8c85ccf",
   "metadata": {},
   "outputs": [],
   "source": [
    "df['sex'] =df['sex'].fillna(2)"
   ]
  },
  {
   "cell_type": "code",
   "execution_count": 15,
   "id": "4995c15c",
   "metadata": {},
   "outputs": [
    {
     "data": {
      "text/plain": [
       "0"
      ]
     },
     "execution_count": 15,
     "metadata": {},
     "output_type": "execute_result"
    }
   ],
   "source": [
    "df['sex'].isnull().sum()"
   ]
  },
  {
   "cell_type": "code",
   "execution_count": 16,
   "id": "2a497066",
   "metadata": {},
   "outputs": [
    {
     "data": {
      "text/plain": [
       "<AxesSubplot:>"
      ]
     },
     "execution_count": 16,
     "metadata": {},
     "output_type": "execute_result"
    },
    {
     "data": {
      "image/png": "[encoded data removed]",
      "text/plain": [
       "<Figure size 640x480 with 1 Axes>"
      ]
     },
     "metadata": {},
     "output_type": "display_data"
    }
   ],
   "source": [
    "df.plot()"
   ]
  },
  {
   "cell_type": "code",
   "execution_count": 17,
   "id": "302da9e7",
   "metadata": {},
   "outputs": [
    {
     "name": "stdout",
     "output_type": "stream",
     "text": [
      "Number of 0 data: 11809\n",
      "Number of 1 data: 14274\n",
      "O data =  45.274699996166085\n",
      "1 data =  54.72530000383391\n"
     ]
    }
   ],
   "source": [
    "data0 = df[df['target'] == 0]\n",
    "data1 = df[df['target'] == 1]\n",
    "total_0 = data0[\"target\"].count()\n",
    "total_1 = data1[\"target\"].count()\n",
    "print(\"Number of 0 data:\",total_0)\n",
    "print(\"Number of 1 data:\",total_1)\n",
    "\n",
    "pct_0 = total_0 / (total_0 + total_1) * 100\n",
    "pct_1 = total_1 / (total_0 + total_1) * 100\n",
    "print(\"O data = \",pct_0)\n",
    "print(\"1 data = \",pct_1)"
   ]
  },
  {
   "cell_type": "code",
   "execution_count": 18,
   "id": "2a18bb24",
   "metadata": {},
   "outputs": [],
   "source": [
    "target1 = df['target']\n",
    "train , test = train_test_split(df, test_size=0.3, shuffle=True, random_state=32,stratify=target1)"
   ]
  },
  {
   "cell_type": "code",
   "execution_count": 19,
   "id": "fb78c4b6",
   "metadata": {},
   "outputs": [
    {
     "data": {
      "text/html": [
       "<div>\n",
       "<style scoped>\n",
       "    .dataframe tbody tr th:only-of-type {\n",
       "        vertical-align: middle;\n",
       "    }\n",
       "\n",
       "    .dataframe tbody tr th {\n",
       "        vertical-align: top;\n",
       "    }\n",
       "\n",
       "    .dataframe thead th {\n",
       "        text-align: right;\n",
       "    }\n",
       "</style>\n",
       "<table border=\"1\" class=\"dataframe\">\n",
       "  <thead>\n",
       "    <tr style=\"text-align: right;\">\n",
       "      <th></th>\n",
       "      <th>age</th>\n",
       "      <th>sex</th>\n",
       "      <th>cp</th>\n",
       "      <th>trestbps</th>\n",
       "      <th>chol</th>\n",
       "      <th>fbs</th>\n",
       "      <th>restecg</th>\n",
       "      <th>thalach</th>\n",
       "      <th>exang</th>\n",
       "      <th>oldpeak</th>\n",
       "      <th>slope</th>\n",
       "      <th>ca</th>\n",
       "      <th>thal</th>\n",
       "      <th>target</th>\n",
       "    </tr>\n",
       "  </thead>\n",
       "  <tbody>\n",
       "    <tr>\n",
       "      <th>13320</th>\n",
       "      <td>50.0</td>\n",
       "      <td>0.0</td>\n",
       "      <td>0</td>\n",
       "      <td>150</td>\n",
       "      <td>270</td>\n",
       "      <td>0</td>\n",
       "      <td>0</td>\n",
       "      <td>111</td>\n",
       "      <td>1</td>\n",
       "      <td>0.8</td>\n",
       "      <td>2</td>\n",
       "      <td>0</td>\n",
       "      <td>3</td>\n",
       "      <td>0</td>\n",
       "    </tr>\n",
       "    <tr>\n",
       "      <th>3999</th>\n",
       "      <td>61.0</td>\n",
       "      <td>0.0</td>\n",
       "      <td>1</td>\n",
       "      <td>108</td>\n",
       "      <td>309</td>\n",
       "      <td>0</td>\n",
       "      <td>1</td>\n",
       "      <td>156</td>\n",
       "      <td>0</td>\n",
       "      <td>0.0</td>\n",
       "      <td>2</td>\n",
       "      <td>0</td>\n",
       "      <td>3</td>\n",
       "      <td>1</td>\n",
       "    </tr>\n",
       "    <tr>\n",
       "      <th>1669</th>\n",
       "      <td>51.0</td>\n",
       "      <td>0.0</td>\n",
       "      <td>0</td>\n",
       "      <td>120</td>\n",
       "      <td>198</td>\n",
       "      <td>0</td>\n",
       "      <td>1</td>\n",
       "      <td>130</td>\n",
       "      <td>1</td>\n",
       "      <td>1.6</td>\n",
       "      <td>1</td>\n",
       "      <td>0</td>\n",
       "      <td>3</td>\n",
       "      <td>0</td>\n",
       "    </tr>\n",
       "    <tr>\n",
       "      <th>19113</th>\n",
       "      <td>67.0</td>\n",
       "      <td>0.0</td>\n",
       "      <td>2</td>\n",
       "      <td>140</td>\n",
       "      <td>197</td>\n",
       "      <td>0</td>\n",
       "      <td>2</td>\n",
       "      <td>116</td>\n",
       "      <td>0</td>\n",
       "      <td>1.1</td>\n",
       "      <td>1</td>\n",
       "      <td>0</td>\n",
       "      <td>2</td>\n",
       "      <td>1</td>\n",
       "    </tr>\n",
       "    <tr>\n",
       "      <th>5227</th>\n",
       "      <td>54.0</td>\n",
       "      <td>1.0</td>\n",
       "      <td>1</td>\n",
       "      <td>140</td>\n",
       "      <td>294</td>\n",
       "      <td>0</td>\n",
       "      <td>0</td>\n",
       "      <td>153</td>\n",
       "      <td>0</td>\n",
       "      <td>1.3</td>\n",
       "      <td>1</td>\n",
       "      <td>0</td>\n",
       "      <td>2</td>\n",
       "      <td>1</td>\n",
       "    </tr>\n",
       "    <tr>\n",
       "      <th>...</th>\n",
       "      <td>...</td>\n",
       "      <td>...</td>\n",
       "      <td>...</td>\n",
       "      <td>...</td>\n",
       "      <td>...</td>\n",
       "      <td>...</td>\n",
       "      <td>...</td>\n",
       "      <td>...</td>\n",
       "      <td>...</td>\n",
       "      <td>...</td>\n",
       "      <td>...</td>\n",
       "      <td>...</td>\n",
       "      <td>...</td>\n",
       "      <td>...</td>\n",
       "    </tr>\n",
       "    <tr>\n",
       "      <th>24929</th>\n",
       "      <td>78.0</td>\n",
       "      <td>0.0</td>\n",
       "      <td>0</td>\n",
       "      <td>132</td>\n",
       "      <td>353</td>\n",
       "      <td>0</td>\n",
       "      <td>1</td>\n",
       "      <td>132</td>\n",
       "      <td>1</td>\n",
       "      <td>1.2</td>\n",
       "      <td>1</td>\n",
       "      <td>1</td>\n",
       "      <td>3</td>\n",
       "      <td>0</td>\n",
       "    </tr>\n",
       "    <tr>\n",
       "      <th>3486</th>\n",
       "      <td>47.0</td>\n",
       "      <td>0.0</td>\n",
       "      <td>0</td>\n",
       "      <td>180</td>\n",
       "      <td>327</td>\n",
       "      <td>0</td>\n",
       "      <td>2</td>\n",
       "      <td>117</td>\n",
       "      <td>1</td>\n",
       "      <td>3.4</td>\n",
       "      <td>1</td>\n",
       "      <td>0</td>\n",
       "      <td>2</td>\n",
       "      <td>0</td>\n",
       "    </tr>\n",
       "    <tr>\n",
       "      <th>5495</th>\n",
       "      <td>75.0</td>\n",
       "      <td>0.0</td>\n",
       "      <td>0</td>\n",
       "      <td>178</td>\n",
       "      <td>228</td>\n",
       "      <td>1</td>\n",
       "      <td>1</td>\n",
       "      <td>165</td>\n",
       "      <td>1</td>\n",
       "      <td>1.0</td>\n",
       "      <td>1</td>\n",
       "      <td>2</td>\n",
       "      <td>3</td>\n",
       "      <td>0</td>\n",
       "    </tr>\n",
       "    <tr>\n",
       "      <th>24557</th>\n",
       "      <td>78.0</td>\n",
       "      <td>0.0</td>\n",
       "      <td>0</td>\n",
       "      <td>106</td>\n",
       "      <td>223</td>\n",
       "      <td>0</td>\n",
       "      <td>1</td>\n",
       "      <td>142</td>\n",
       "      <td>0</td>\n",
       "      <td>0.3</td>\n",
       "      <td>2</td>\n",
       "      <td>2</td>\n",
       "      <td>2</td>\n",
       "      <td>1</td>\n",
       "    </tr>\n",
       "    <tr>\n",
       "      <th>9980</th>\n",
       "      <td>65.0</td>\n",
       "      <td>1.0</td>\n",
       "      <td>0</td>\n",
       "      <td>108</td>\n",
       "      <td>233</td>\n",
       "      <td>1</td>\n",
       "      <td>1</td>\n",
       "      <td>147</td>\n",
       "      <td>0</td>\n",
       "      <td>0.1</td>\n",
       "      <td>2</td>\n",
       "      <td>3</td>\n",
       "      <td>3</td>\n",
       "      <td>1</td>\n",
       "    </tr>\n",
       "  </tbody>\n",
       "</table>\n",
       "<p>18258 rows × 14 columns</p>\n",
       "</div>"
      ],
      "text/plain": [
       "        age  sex  cp  trestbps  chol  fbs  restecg  thalach  exang  oldpeak  \\\n",
       "13320  50.0  0.0   0       150   270    0        0      111      1      0.8   \n",
       "3999   61.0  0.0   1       108   309    0        1      156      0      0.0   \n",
       "1669   51.0  0.0   0       120   198    0        1      130      1      1.6   \n",
       "19113  67.0  0.0   2       140   197    0        2      116      0      1.1   \n",
       "5227   54.0  1.0   1       140   294    0        0      153      0      1.3   \n",
       "...     ...  ...  ..       ...   ...  ...      ...      ...    ...      ...   \n",
       "24929  78.0  0.0   0       132   353    0        1      132      1      1.2   \n",
       "3486   47.0  0.0   0       180   327    0        2      117      1      3.4   \n",
       "5495   75.0  0.0   0       178   228    1        1      165      1      1.0   \n",
       "24557  78.0  0.0   0       106   223    0        1      142      0      0.3   \n",
       "9980   65.0  1.0   0       108   233    1        1      147      0      0.1   \n",
       "\n",
       "       slope  ca  thal  target  \n",
       "13320      2   0     3       0  \n",
       "3999       2   0     3       1  \n",
       "1669       1   0     3       0  \n",
       "19113      1   0     2       1  \n",
       "5227       1   0     2       1  \n",
       "...      ...  ..   ...     ...  \n",
       "24929      1   1     3       0  \n",
       "3486       1   0     2       0  \n",
       "5495       1   2     3       0  \n",
       "24557      2   2     2       1  \n",
       "9980       2   3     3       1  \n",
       "\n",
       "[18258 rows x 14 columns]"
      ]
     },
     "execution_count": 19,
     "metadata": {},
     "output_type": "execute_result"
    }
   ],
   "source": [
    "train"
   ]
  },
  {
   "cell_type": "code",
   "execution_count": 20,
   "id": "cdd20693",
   "metadata": {},
   "outputs": [
    {
     "name": "stdout",
     "output_type": "stream",
     "text": [
      "1    9992\n",
      "0    8266\n",
      "Name: target, dtype: int64\n"
     ]
    }
   ],
   "source": [
    "print(pd.value_counts(train['target']))"
   ]
  },
  {
   "cell_type": "code",
   "execution_count": 21,
   "id": "7a3664ba",
   "metadata": {},
   "outputs": [
    {
     "name": "stdout",
     "output_type": "stream",
     "text": [
      "O data: 9992\n",
      "1 data : 8266\n",
      "O data ratio: 0.5472669514733267\n",
      "1 data ratio: 0.45273304852667323\n"
     ]
    }
   ],
   "source": [
    "train_x,test_y=train_test_split(df,test_size=0.3,stratify=df['target'])\n",
    "total_0 = train[train['target'] == 1].shape[0]\n",
    "total_1 = train[train['target'] == 0].shape[0]\n",
    "ratio = total_0 / total_1\n",
    "print(\"O data:\", total_0)\n",
    "print(\"1 data :\", total_1)\n",
    "print(\"O data ratio:\", total_0/(total_0+total_1))\n",
    "print(\"1 data ratio:\", total_1/(total_0+total_1))"
   ]
  },
  {
   "cell_type": "code",
   "execution_count": 22,
   "id": "52670c32",
   "metadata": {},
   "outputs": [
    {
     "data": {
      "text/html": [
       "<div>\n",
       "<style scoped>\n",
       "    .dataframe tbody tr th:only-of-type {\n",
       "        vertical-align: middle;\n",
       "    }\n",
       "\n",
       "    .dataframe tbody tr th {\n",
       "        vertical-align: top;\n",
       "    }\n",
       "\n",
       "    .dataframe thead th {\n",
       "        text-align: right;\n",
       "    }\n",
       "</style>\n",
       "<table border=\"1\" class=\"dataframe\">\n",
       "  <thead>\n",
       "    <tr style=\"text-align: right;\">\n",
       "      <th></th>\n",
       "      <th>age</th>\n",
       "      <th>sex</th>\n",
       "      <th>cp</th>\n",
       "      <th>trestbps</th>\n",
       "      <th>chol</th>\n",
       "      <th>fbs</th>\n",
       "      <th>restecg</th>\n",
       "      <th>thalach</th>\n",
       "      <th>exang</th>\n",
       "      <th>oldpeak</th>\n",
       "      <th>slope</th>\n",
       "      <th>ca</th>\n",
       "      <th>thal</th>\n",
       "      <th>target</th>\n",
       "    </tr>\n",
       "  </thead>\n",
       "  <tbody>\n",
       "    <tr>\n",
       "      <th>21841</th>\n",
       "      <td>72.0</td>\n",
       "      <td>0.0</td>\n",
       "      <td>0</td>\n",
       "      <td>132</td>\n",
       "      <td>247</td>\n",
       "      <td>1</td>\n",
       "      <td>0</td>\n",
       "      <td>143</td>\n",
       "      <td>1</td>\n",
       "      <td>0.1</td>\n",
       "      <td>1</td>\n",
       "      <td>4</td>\n",
       "      <td>3</td>\n",
       "      <td>0</td>\n",
       "    </tr>\n",
       "    <tr>\n",
       "      <th>23114</th>\n",
       "      <td>56.0</td>\n",
       "      <td>1.0</td>\n",
       "      <td>2</td>\n",
       "      <td>150</td>\n",
       "      <td>232</td>\n",
       "      <td>0</td>\n",
       "      <td>0</td>\n",
       "      <td>165</td>\n",
       "      <td>0</td>\n",
       "      <td>1.6</td>\n",
       "      <td>2</td>\n",
       "      <td>0</td>\n",
       "      <td>3</td>\n",
       "      <td>1</td>\n",
       "    </tr>\n",
       "    <tr>\n",
       "      <th>11197</th>\n",
       "      <td>47.0</td>\n",
       "      <td>1.0</td>\n",
       "      <td>1</td>\n",
       "      <td>105</td>\n",
       "      <td>204</td>\n",
       "      <td>0</td>\n",
       "      <td>1</td>\n",
       "      <td>172</td>\n",
       "      <td>0</td>\n",
       "      <td>0.0</td>\n",
       "      <td>2</td>\n",
       "      <td>0</td>\n",
       "      <td>2</td>\n",
       "      <td>1</td>\n",
       "    </tr>\n",
       "    <tr>\n",
       "      <th>12658</th>\n",
       "      <td>68.0</td>\n",
       "      <td>1.0</td>\n",
       "      <td>0</td>\n",
       "      <td>144</td>\n",
       "      <td>193</td>\n",
       "      <td>1</td>\n",
       "      <td>1</td>\n",
       "      <td>141</td>\n",
       "      <td>0</td>\n",
       "      <td>3.4</td>\n",
       "      <td>1</td>\n",
       "      <td>2</td>\n",
       "      <td>3</td>\n",
       "      <td>0</td>\n",
       "    </tr>\n",
       "    <tr>\n",
       "      <th>19576</th>\n",
       "      <td>18.0</td>\n",
       "      <td>1.0</td>\n",
       "      <td>1</td>\n",
       "      <td>160</td>\n",
       "      <td>246</td>\n",
       "      <td>0</td>\n",
       "      <td>1</td>\n",
       "      <td>120</td>\n",
       "      <td>1</td>\n",
       "      <td>0.0</td>\n",
       "      <td>1</td>\n",
       "      <td>3</td>\n",
       "      <td>1</td>\n",
       "      <td>0</td>\n",
       "    </tr>\n",
       "    <tr>\n",
       "      <th>...</th>\n",
       "      <td>...</td>\n",
       "      <td>...</td>\n",
       "      <td>...</td>\n",
       "      <td>...</td>\n",
       "      <td>...</td>\n",
       "      <td>...</td>\n",
       "      <td>...</td>\n",
       "      <td>...</td>\n",
       "      <td>...</td>\n",
       "      <td>...</td>\n",
       "      <td>...</td>\n",
       "      <td>...</td>\n",
       "      <td>...</td>\n",
       "      <td>...</td>\n",
       "    </tr>\n",
       "    <tr>\n",
       "      <th>1605</th>\n",
       "      <td>66.0</td>\n",
       "      <td>0.0</td>\n",
       "      <td>1</td>\n",
       "      <td>130</td>\n",
       "      <td>221</td>\n",
       "      <td>0</td>\n",
       "      <td>0</td>\n",
       "      <td>163</td>\n",
       "      <td>0</td>\n",
       "      <td>0.0</td>\n",
       "      <td>2</td>\n",
       "      <td>0</td>\n",
       "      <td>3</td>\n",
       "      <td>1</td>\n",
       "    </tr>\n",
       "    <tr>\n",
       "      <th>20592</th>\n",
       "      <td>64.0</td>\n",
       "      <td>1.0</td>\n",
       "      <td>0</td>\n",
       "      <td>132</td>\n",
       "      <td>341</td>\n",
       "      <td>1</td>\n",
       "      <td>0</td>\n",
       "      <td>136</td>\n",
       "      <td>1</td>\n",
       "      <td>3.0</td>\n",
       "      <td>1</td>\n",
       "      <td>0</td>\n",
       "      <td>3</td>\n",
       "      <td>0</td>\n",
       "    </tr>\n",
       "    <tr>\n",
       "      <th>26058</th>\n",
       "      <td>72.0</td>\n",
       "      <td>0.0</td>\n",
       "      <td>0</td>\n",
       "      <td>140</td>\n",
       "      <td>394</td>\n",
       "      <td>0</td>\n",
       "      <td>0</td>\n",
       "      <td>157</td>\n",
       "      <td>0</td>\n",
       "      <td>1.2</td>\n",
       "      <td>1</td>\n",
       "      <td>0</td>\n",
       "      <td>2</td>\n",
       "      <td>1</td>\n",
       "    </tr>\n",
       "    <tr>\n",
       "      <th>16212</th>\n",
       "      <td>30.0</td>\n",
       "      <td>1.0</td>\n",
       "      <td>2</td>\n",
       "      <td>160</td>\n",
       "      <td>360</td>\n",
       "      <td>0</td>\n",
       "      <td>0</td>\n",
       "      <td>151</td>\n",
       "      <td>0</td>\n",
       "      <td>0.8</td>\n",
       "      <td>2</td>\n",
       "      <td>0</td>\n",
       "      <td>2</td>\n",
       "      <td>1</td>\n",
       "    </tr>\n",
       "    <tr>\n",
       "      <th>5509</th>\n",
       "      <td>64.0</td>\n",
       "      <td>1.0</td>\n",
       "      <td>0</td>\n",
       "      <td>140</td>\n",
       "      <td>207</td>\n",
       "      <td>0</td>\n",
       "      <td>0</td>\n",
       "      <td>138</td>\n",
       "      <td>1</td>\n",
       "      <td>1.9</td>\n",
       "      <td>2</td>\n",
       "      <td>1</td>\n",
       "      <td>3</td>\n",
       "      <td>0</td>\n",
       "    </tr>\n",
       "  </tbody>\n",
       "</table>\n",
       "<p>7825 rows × 14 columns</p>\n",
       "</div>"
      ],
      "text/plain": [
       "        age  sex  cp  trestbps  chol  fbs  restecg  thalach  exang  oldpeak  \\\n",
       "21841  72.0  0.0   0       132   247    1        0      143      1      0.1   \n",
       "23114  56.0  1.0   2       150   232    0        0      165      0      1.6   \n",
       "11197  47.0  1.0   1       105   204    0        1      172      0      0.0   \n",
       "12658  68.0  1.0   0       144   193    1        1      141      0      3.4   \n",
       "19576  18.0  1.0   1       160   246    0        1      120      1      0.0   \n",
       "...     ...  ...  ..       ...   ...  ...      ...      ...    ...      ...   \n",
       "1605   66.0  0.0   1       130   221    0        0      163      0      0.0   \n",
       "20592  64.0  1.0   0       132   341    1        0      136      1      3.0   \n",
       "26058  72.0  0.0   0       140   394    0        0      157      0      1.2   \n",
       "16212  30.0  1.0   2       160   360    0        0      151      0      0.8   \n",
       "5509   64.0  1.0   0       140   207    0        0      138      1      1.9   \n",
       "\n",
       "       slope  ca  thal  target  \n",
       "21841      1   4     3       0  \n",
       "23114      2   0     3       1  \n",
       "11197      2   0     2       1  \n",
       "12658      1   2     3       0  \n",
       "19576      1   3     1       0  \n",
       "...      ...  ..   ...     ...  \n",
       "1605       2   0     3       1  \n",
       "20592      1   0     3       0  \n",
       "26058      1   0     2       1  \n",
       "16212      2   0     2       1  \n",
       "5509       2   1     3       0  \n",
       "\n",
       "[7825 rows x 14 columns]"
      ]
     },
     "execution_count": 22,
     "metadata": {},
     "output_type": "execute_result"
    }
   ],
   "source": [
    "test"
   ]
  },
  {
   "cell_type": "code",
   "execution_count": 23,
   "id": "1e89f326",
   "metadata": {},
   "outputs": [
    {
     "name": "stdout",
     "output_type": "stream",
     "text": [
      "1    4282\n",
      "0    3543\n",
      "Name: target, dtype: int64\n"
     ]
    }
   ],
   "source": [
    "print(pd.value_counts(test['target']))"
   ]
  },
  {
   "cell_type": "code",
   "execution_count": 24,
   "id": "db23aa59",
   "metadata": {},
   "outputs": [
    {
     "name": "stdout",
     "output_type": "stream",
     "text": [
      "O data: 4282\n",
      "1 data : 3543\n",
      "O data ratio: 0.547220447284345\n",
      "1 data ratio: 0.45277955271565495\n"
     ]
    }
   ],
   "source": [
    "train_x,test_y=train_test_split(df,test_size=0.3,stratify=df['target'])\n",
    "total_0 = test[test['target'] == 1].shape[0]\n",
    "total_1 = test[test['target'] == 0].shape[0]\n",
    "ratio = total_0 / total_1\n",
    "print(\"O data:\", total_0)\n",
    "print(\"1 data :\", total_1)\n",
    "print(\"O data ratio:\", total_0/(total_0+total_1))\n",
    "print(\"1 data ratio:\", total_1/(total_0+total_1))"
   ]
  },
  {
   "cell_type": "markdown",
   "id": "14aa0a2e",
   "metadata": {},
   "source": [
    "# Separate target column for training "
   ]
  },
  {
   "cell_type": "code",
   "execution_count": 25,
   "id": "fd112a81",
   "metadata": {},
   "outputs": [],
   "source": [
    "train_x = train.drop(columns = ['target'] , axis =1)"
   ]
  },
  {
   "cell_type": "code",
   "execution_count": 26,
   "id": "d7365bb9",
   "metadata": {},
   "outputs": [],
   "source": [
    "train_y = train['target']"
   ]
  },
  {
   "cell_type": "markdown",
   "id": "1af26ff7",
   "metadata": {},
   "source": [
    "# Separate target column for testing"
   ]
  },
  {
   "cell_type": "code",
   "execution_count": 27,
   "id": "0be6468e",
   "metadata": {},
   "outputs": [],
   "source": [
    "test_x = test.drop(columns = ['target'] , axis =1)"
   ]
  },
  {
   "cell_type": "code",
   "execution_count": 28,
   "id": "6a246213",
   "metadata": {},
   "outputs": [],
   "source": [
    "test_y = test['target']"
   ]
  },
  {
   "cell_type": "markdown",
   "id": "54077dda",
   "metadata": {},
   "source": [
    "# Random Forest"
   ]
  },
  {
   "cell_type": "code",
   "execution_count": 29,
   "id": "4f475b69",
   "metadata": {},
   "outputs": [],
   "source": [
    "model = RandomForestClassifier()"
   ]
  },
  {
   "cell_type": "code",
   "execution_count": 30,
   "id": "a8e4f090",
   "metadata": {},
   "outputs": [
    {
     "data": {
      "text/plain": [
       "RandomForestClassifier()"
      ]
     },
     "execution_count": 30,
     "metadata": {},
     "output_type": "execute_result"
    }
   ],
   "source": [
    "model.fit(train_x , train_y)"
   ]
  },
  {
   "cell_type": "code",
   "execution_count": 31,
   "id": "040f1548",
   "metadata": {},
   "outputs": [],
   "source": [
    "y_pred = model.predict(test_x)"
   ]
  },
  {
   "cell_type": "code",
   "execution_count": 32,
   "id": "7844ec77",
   "metadata": {},
   "outputs": [
    {
     "name": "stdout",
     "output_type": "stream",
     "text": [
      "Accuracy: 1.0\n",
      "Precision: 1.0\n",
      "Recall: 1.0\n",
      "F1 Score: 1.0\n",
      "AUC Score: 1.0\n",
      "[[3543    0]\n",
      " [   0 4282]]\n"
     ]
    }
   ],
   "source": [
    "accuracy = accuracy_score(test_y, y_pred)\n",
    "precision = precision_score(test_y, y_pred)\n",
    "recall = recall_score(test_y, y_pred)\n",
    "f1 = f1_score(test_y, y_pred)\n",
    "auc = roc_auc_score(test_y, y_pred)\n",
    "c = confusion_matrix(test_y, y_pred)\n",
    "print(\"Accuracy:\", accuracy)\n",
    "print(\"Precision:\", precision)\n",
    "print(\"Recall:\", recall)\n",
    "print(\"F1 Score:\", f1)\n",
    "print(\"AUC Score:\", auc)\n",
    "print(c)"
   ]
  },
  {
   "cell_type": "code",
   "execution_count": 33,
   "id": "78733710",
   "metadata": {},
   "outputs": [
    {
     "name": "stderr",
     "output_type": "stream",
     "text": [
      "C:\\ProgramData\\Anaconda3\\lib\\site-packages\\sklearn\\utils\\deprecation.py:87: FutureWarning: Function plot_roc_curve is deprecated; Function :func:`plot_roc_curve` is deprecated in 1.0 and will be removed in 1.2. Use one of the class methods: :meth:`sklearn.metric.RocCurveDisplay.from_predictions` or :meth:`sklearn.metric.RocCurveDisplay.from_estimator`.\n",
      "  warnings.warn(msg, category=FutureWarning)\n"
     ]
    },
    {
     "data": {
      "image/png": "[encoded data removed]",
      "text/plain": [
       "<Figure size 640x480 with 1 Axes>"
      ]
     },
     "metadata": {},
     "output_type": "display_data"
    }
   ],
   "source": [
    "disp = plot_roc_curve(model, test_x, test_y)\n",
    "plt.show()"
   ]
  },
  {
   "cell_type": "markdown",
   "id": "f12f4113",
   "metadata": {},
   "source": [
    "# Manual Calculation"
   ]
  },
  {
   "cell_type": "code",
   "execution_count": 34,
   "id": "0eb913a5",
   "metadata": {},
   "outputs": [
    {
     "name": "stdout",
     "output_type": "stream",
     "text": [
      "Outcome values : \n",
      " 3543 0 0 4282\n"
     ]
    }
   ],
   "source": [
    "TP,FN,FP,TN = c.reshape(-1)\n",
    "print('Outcome values : \\n', TP,FN,FP,TN)"
   ]
  },
  {
   "cell_type": "code",
   "execution_count": 35,
   "id": "84a35752",
   "metadata": {},
   "outputs": [
    {
     "name": "stdout",
     "output_type": "stream",
     "text": [
      "\n",
      "Accuracy:  1.0\n"
     ]
    }
   ],
   "source": [
    "print('\\nAccuracy: ',(TP+TN)/(TP+FN+TN+FP) )"
   ]
  },
  {
   "cell_type": "code",
   "execution_count": 36,
   "id": "424152c2",
   "metadata": {},
   "outputs": [
    {
     "name": "stdout",
     "output_type": "stream",
     "text": [
      "\n",
      "Precision: 1.0\n"
     ]
    }
   ],
   "source": [
    "precision=TP/(FP+TP)\n",
    "print('\\nPrecision:',precision)"
   ]
  },
  {
   "cell_type": "code",
   "execution_count": 37,
   "id": "edfbb156",
   "metadata": {},
   "outputs": [
    {
     "name": "stdout",
     "output_type": "stream",
     "text": [
      "\n",
      "recall: 1.0\n"
     ]
    }
   ],
   "source": [
    "recall=TP/(FN+TP)\n",
    "print('\\nrecall:',recall)"
   ]
  },
  {
   "cell_type": "code",
   "execution_count": 38,
   "id": "b27309da",
   "metadata": {},
   "outputs": [
    {
     "name": "stdout",
     "output_type": "stream",
     "text": [
      "\n",
      "F1 score:  1.0\n"
     ]
    }
   ],
   "source": [
    "print('\\nF1 score: ',(2*precision*recall/(precision+recall)))"
   ]
  },
  {
   "cell_type": "markdown",
   "id": "6f35d876",
   "metadata": {},
   "source": [
    "# Naive Bayes"
   ]
  },
  {
   "cell_type": "code",
   "execution_count": 39,
   "id": "a03ba230",
   "metadata": {},
   "outputs": [
    {
     "data": {
      "text/plain": [
       "GaussianNB()"
      ]
     },
     "execution_count": 39,
     "metadata": {},
     "output_type": "execute_result"
    }
   ],
   "source": [
    "model = GaussianNB()\n",
    "model.fit(train_x , train_y)"
   ]
  },
  {
   "cell_type": "code",
   "execution_count": 40,
   "id": "c8893291",
   "metadata": {},
   "outputs": [],
   "source": [
    "y_pred = model.predict(test_x)"
   ]
  },
  {
   "cell_type": "code",
   "execution_count": 41,
   "id": "6a40d24c",
   "metadata": {},
   "outputs": [
    {
     "data": {
      "text/plain": [
       "KNeighborsClassifier(n_neighbors=3)"
      ]
     },
     "execution_count": 41,
     "metadata": {},
     "output_type": "execute_result"
    }
   ],
   "source": [
    "\n",
    "model = KNeighborsClassifier(n_neighbors=3)\n",
    "model.fit(train_x , train_y)"
   ]
  },
  {
   "cell_type": "code",
   "execution_count": 42,
   "id": "3b76dfa8",
   "metadata": {},
   "outputs": [
    {
     "name": "stdout",
     "output_type": "stream",
     "text": [
      "Accuracy: 0.8217252396166134\n",
      "Precision: 0.8253324318233041\n",
      "Recall: 0.8552078468005605\n",
      "F1 Score: 0.8400045876820736\n",
      "AUC Score: 0.8182333335047116\n",
      "[[2768  775]\n",
      " [ 620 3662]]\n"
     ]
    }
   ],
   "source": [
    "accuracy = accuracy_score(test_y, y_pred)\n",
    "precision = precision_score(test_y, y_pred)\n",
    "recall = recall_score(test_y, y_pred)\n",
    "f1 = f1_score(test_y, y_pred)\n",
    "auc = roc_auc_score(test_y, y_pred)\n",
    "c = confusion_matrix(test_y, y_pred)\n",
    "print(\"Accuracy:\", accuracy)\n",
    "print(\"Precision:\", precision)\n",
    "print(\"Recall:\", recall)\n",
    "print(\"F1 Score:\", f1)\n",
    "print(\"AUC Score:\", auc)\n",
    "print(c)"
   ]
  },
  {
   "cell_type": "markdown",
   "id": "a50c4057",
   "metadata": {},
   "source": [
    "# Support vector machine"
   ]
  },
  {
   "cell_type": "code",
   "execution_count": 43,
   "id": "889e7e91",
   "metadata": {},
   "outputs": [
    {
     "data": {
      "text/plain": [
       "SVC(kernel='linear')"
      ]
     },
     "execution_count": 43,
     "metadata": {},
     "output_type": "execute_result"
    }
   ],
   "source": [
    "model=SVC(kernel='linear', C=1.0)\n",
    "model.fit(train_x , train_y)"
   ]
  },
  {
   "cell_type": "code",
   "execution_count": 44,
   "id": "34c8e334",
   "metadata": {},
   "outputs": [],
   "source": [
    "y_pred = model.predict(test_x)"
   ]
  },
  {
   "cell_type": "code",
   "execution_count": 45,
   "id": "f525b248",
   "metadata": {},
   "outputs": [
    {
     "name": "stdout",
     "output_type": "stream",
     "text": [
      "Accuracy: 0.8536741214057508\n",
      "Precision: 0.8525511350865363\n",
      "Recall: 0.8858010275572162\n",
      "F1 Score: 0.8688580918566029\n",
      "AUC Score: 0.8503236015573268\n",
      "[[2887  656]\n",
      " [ 489 3793]]\n"
     ]
    }
   ],
   "source": [
    "accuracy = accuracy_score(test_y, y_pred)\n",
    "precision = precision_score(test_y, y_pred)\n",
    "recall = recall_score(test_y, y_pred)\n",
    "f1 = f1_score(test_y, y_pred)\n",
    "auc = roc_auc_score(test_y, y_pred)\n",
    "c = confusion_matrix(test_y, y_pred)\n",
    "print(\"Accuracy:\", accuracy)\n",
    "print(\"Precision:\", precision)\n",
    "print(\"Recall:\", recall)\n",
    "print(\"F1 Score:\", f1)\n",
    "print(\"AUC Score:\", auc)\n",
    "print(c)"
   ]
  },
  {
   "cell_type": "markdown",
   "id": "9f8f373b",
   "metadata": {},
   "source": [
    "# Decision Tree"
   ]
  },
  {
   "cell_type": "code",
   "execution_count": 46,
   "id": "90f84238",
   "metadata": {},
   "outputs": [
    {
     "data": {
      "text/plain": [
       "DecisionTreeClassifier()"
      ]
     },
     "execution_count": 46,
     "metadata": {},
     "output_type": "execute_result"
    }
   ],
   "source": [
    "model = DecisionTreeClassifier()\n",
    "model.fit(train_x , train_y)"
   ]
  },
  {
   "cell_type": "code",
   "execution_count": 47,
   "id": "997f1950",
   "metadata": {},
   "outputs": [],
   "source": [
    "y_pred = model.predict(test_x)"
   ]
  },
  {
   "cell_type": "code",
   "execution_count": 48,
   "id": "0d6a3b2c",
   "metadata": {},
   "outputs": [
    {
     "name": "stdout",
     "output_type": "stream",
     "text": [
      "Accuracy: 1.0\n",
      "Precision: 1.0\n",
      "Recall: 1.0\n",
      "F1 Score: 1.0\n",
      "AUC Score: 1.0\n",
      "[[3543    0]\n",
      " [   0 4282]]\n"
     ]
    }
   ],
   "source": [
    "accuracy = accuracy_score(test_y, y_pred)\n",
    "precision = precision_score(test_y, y_pred)\n",
    "recall = recall_score(test_y, y_pred)\n",
    "f1 = f1_score(test_y, y_pred)\n",
    "auc = roc_auc_score(test_y, y_pred)\n",
    "c = confusion_matrix(test_y, y_pred)\n",
    "print(\"Accuracy:\", accuracy)\n",
    "print(\"Precision:\", precision)\n",
    "print(\"Recall:\", recall)\n",
    "print(\"F1 Score:\", f1)\n",
    "print(\"AUC Score:\", auc)\n",
    "print(c)"
   ]
  },
  {
   "cell_type": "markdown",
   "id": "0b7b56f0",
   "metadata": {},
   "source": [
    "# Logistic Regression "
   ]
  },
  {
   "cell_type": "code",
   "execution_count": 49,
   "id": "531b32dc",
   "metadata": {
    "scrolled": true
   },
   "outputs": [
    {
     "name": "stderr",
     "output_type": "stream",
     "text": [
      "C:\\ProgramData\\Anaconda3\\lib\\site-packages\\sklearn\\linear_model\\_logistic.py:814: ConvergenceWarning: lbfgs failed to converge (status=1):\n",
      "STOP: TOTAL NO. of ITERATIONS REACHED LIMIT.\n",
      "\n",
      "Increase the number of iterations (max_iter) or scale the data as shown in:\n",
      "    https://scikit-learn.org/stable/modules/preprocessing.html\n",
      "Please also refer to the documentation for alternative solver options:\n",
      "    https://scikit-learn.org/stable/modules/linear_model.html#logistic-regression\n",
      "  n_iter_i = _check_optimize_result(\n"
     ]
    },
    {
     "data": {
      "text/plain": [
       "LogisticRegression()"
      ]
     },
     "execution_count": 49,
     "metadata": {},
     "output_type": "execute_result"
    }
   ],
   "source": [
    "model = LogisticRegression()\n",
    "model.fit(train_x , train_y)"
   ]
  },
  {
   "cell_type": "code",
   "execution_count": 50,
   "id": "fc7ec334",
   "metadata": {},
   "outputs": [],
   "source": [
    "y_pred = model.predict(test_x)"
   ]
  },
  {
   "cell_type": "code",
   "execution_count": 51,
   "id": "85175384",
   "metadata": {},
   "outputs": [
    {
     "name": "stdout",
     "output_type": "stream",
     "text": [
      "Accuracy: 0.8448562300319489\n",
      "Precision: 0.8273580879214683\n",
      "Recall: 0.9054180289584306\n",
      "F1 Score: 0.8646297948260481\n",
      "AUC Score: 0.8385402309624217\n",
      "[[2734  809]\n",
      " [ 405 3877]]\n"
     ]
    }
   ],
   "source": [
    "accuracy = accuracy_score(test_y, y_pred)\n",
    "precision = precision_score(test_y, y_pred)\n",
    "recall = recall_score(test_y, y_pred)\n",
    "f1 = f1_score(test_y, y_pred)\n",
    "auc = roc_auc_score(test_y, y_pred)\n",
    "c = confusion_matrix(test_y, y_pred)\n",
    "print(\"Accuracy:\", accuracy)\n",
    "print(\"Precision:\", precision)\n",
    "print(\"Recall:\", recall)\n",
    "print(\"F1 Score:\", f1)\n",
    "print(\"AUC Score:\", auc)\n",
    "print(c)"
   ]
  },
  {
   "cell_type": "markdown",
   "id": "31a7f679",
   "metadata": {},
   "source": [
    "# K-Nearest Neighbor"
   ]
  },
  {
   "cell_type": "code",
   "execution_count": 52,
   "id": "2123ea75",
   "metadata": {},
   "outputs": [
    {
     "data": {
      "text/plain": [
       "KNeighborsClassifier(metric='euclidean')"
      ]
     },
     "execution_count": 52,
     "metadata": {},
     "output_type": "execute_result"
    }
   ],
   "source": [
    "model= KNeighborsClassifier(n_neighbors=5, metric='euclidean')  \n",
    "model.fit(train_x , train_y)"
   ]
  },
  {
   "cell_type": "code",
   "execution_count": 53,
   "id": "199ab6b9",
   "metadata": {},
   "outputs": [
    {
     "name": "stderr",
     "output_type": "stream",
     "text": [
      "C:\\ProgramData\\Anaconda3\\lib\\site-packages\\sklearn\\neighbors\\_classification.py:228: FutureWarning: Unlike other reduction functions (e.g. `skew`, `kurtosis`), the default behavior of `mode` typically preserves the axis it acts along. In SciPy 1.11.0, this behavior will change: the default value of `keepdims` will become False, the `axis` over which the statistic is taken will be eliminated, and the value None will no longer be accepted. Set `keepdims` to True or False to avoid this warning.\n",
      "  mode, _ = stats.mode(_y[neigh_ind, k], axis=1)\n"
     ]
    }
   ],
   "source": [
    "y_pred = model.predict(test_x)"
   ]
  },
  {
   "cell_type": "code",
   "execution_count": 54,
   "id": "f7e6f08d",
   "metadata": {},
   "outputs": [
    {
     "name": "stdout",
     "output_type": "stream",
     "text": [
      "Accuracy: 0.9980830670926517\n",
      "Precision: 0.9990643274853801\n",
      "Recall: 0.9974311069593648\n",
      "F1 Score: 0.9982470491994858\n",
      "AUC Score: 0.9981510601124794\n",
      "[[3539    4]\n",
      " [  11 4271]]\n"
     ]
    }
   ],
   "source": [
    "accuracy = accuracy_score(test_y, y_pred)\n",
    "precision = precision_score(test_y, y_pred)\n",
    "recall = recall_score(test_y, y_pred)\n",
    "f1 = f1_score(test_y, y_pred)\n",
    "auc = roc_auc_score(test_y, y_pred)\n",
    "c = confusion_matrix(test_y, y_pred)\n",
    "print(\"Accuracy:\", accuracy)\n",
    "print(\"Precision:\", precision)\n",
    "print(\"Recall:\", recall)\n",
    "print(\"F1 Score:\", f1)\n",
    "print(\"AUC Score:\", auc)\n",
    "print(c)"
   ]
  },
  {
   "cell_type": "markdown",
   "id": "9729a976",
   "metadata": {},
   "source": [
    "# XGBoost"
   ]
  },
  {
   "cell_type": "code",
   "execution_count": 55,
   "id": "17152227",
   "metadata": {},
   "outputs": [],
   "source": [
    "from xgboost import XGBClassifier\n"
   ]
  },
  {
   "cell_type": "code",
   "execution_count": 56,
   "id": "35d6326c",
   "metadata": {},
   "outputs": [
    {
     "data": {
      "text/plain": [
       "XGBClassifier(base_score=None, booster=None, callbacks=None,\n",
       "              colsample_bylevel=None, colsample_bynode=None,\n",
       "              colsample_bytree=None, early_stopping_rounds=None,\n",
       "              enable_categorical=False, eval_metric=None, feature_types=None,\n",
       "              gamma=None, gpu_id=None, grow_policy=None, importance_type=None,\n",
       "              interaction_constraints=None, learning_rate=None, max_bin=None,\n",
       "              max_cat_threshold=None, max_cat_to_onehot=None,\n",
       "              max_delta_step=None, max_depth=None, max_leaves=None,\n",
       "              min_child_weight=None, missing=nan, monotone_constraints=None,\n",
       "              n_estimators=100, n_jobs=None, num_parallel_tree=None,\n",
       "              predictor=None, random_state=None, ...)"
      ]
     },
     "execution_count": 56,
     "metadata": {},
     "output_type": "execute_result"
    }
   ],
   "source": [
    "model= XGBClassifier()\n",
    "model.fit(train_x , train_y)"
   ]
  },
  {
   "cell_type": "code",
   "execution_count": 57,
   "id": "2384b0f3",
   "metadata": {},
   "outputs": [],
   "source": [
    "y_pred = model.predict(test_x)"
   ]
  },
  {
   "cell_type": "code",
   "execution_count": 58,
   "id": "ae358bd3",
   "metadata": {},
   "outputs": [
    {
     "name": "stdout",
     "output_type": "stream",
     "text": [
      "Accuracy: 1.0\n",
      "Precision: 1.0\n",
      "Recall: 1.0\n",
      "F1 Score: 1.0\n",
      "AUC Score: 1.0\n",
      "[[3543    0]\n",
      " [   0 4282]]\n"
     ]
    }
   ],
   "source": [
    "accuracy = accuracy_score(test_y, y_pred)\n",
    "precision = precision_score(test_y, y_pred)\n",
    "recall = recall_score(test_y, y_pred)\n",
    "f1 = f1_score(test_y, y_pred)\n",
    "auc = roc_auc_score(test_y, y_pred)\n",
    "c = confusion_matrix(test_y, y_pred)\n",
    "print(\"Accuracy:\", accuracy)\n",
    "print(\"Precision:\", precision)\n",
    "print(\"Recall:\", recall)\n",
    "print(\"F1 Score:\", f1)\n",
    "print(\"AUC Score:\", auc)\n",
    "print(c)"
   ]
  },
  {
   "cell_type": "markdown",
   "id": "a7cacb27",
   "metadata": {},
   "source": [
    "# Gradient Boosting Machines"
   ]
  },
  {
   "cell_type": "code",
   "execution_count": 59,
   "id": "27b5f34a",
   "metadata": {},
   "outputs": [
    {
     "data": {
      "text/plain": [
       "GradientBoostingClassifier()"
      ]
     },
     "execution_count": 59,
     "metadata": {},
     "output_type": "execute_result"
    }
   ],
   "source": [
    "model= GradientBoostingClassifier()\n",
    "model.fit(train_x , train_y)"
   ]
  },
  {
   "cell_type": "code",
   "execution_count": 60,
   "id": "8d43a077",
   "metadata": {},
   "outputs": [],
   "source": [
    "y_pred = model.predict(test_x)"
   ]
  },
  {
   "cell_type": "code",
   "execution_count": 61,
   "id": "f51d5af9",
   "metadata": {},
   "outputs": [
    {
     "name": "stdout",
     "output_type": "stream",
     "text": [
      "Accuracy: 0.9746964856230032\n",
      "Precision: 0.9624094202898551\n",
      "Recall: 0.9925268566090611\n",
      "F1 Score: 0.9772361462405151\n",
      "AUC Score: 0.9728369535656088\n",
      "[[3377  166]\n",
      " [  32 4250]]\n"
     ]
    }
   ],
   "source": [
    "accuracy = accuracy_score(test_y, y_pred)\n",
    "precision = precision_score(test_y, y_pred)\n",
    "recall = recall_score(test_y, y_pred)\n",
    "f1 = f1_score(test_y, y_pred)\n",
    "auc = roc_auc_score(test_y, y_pred)\n",
    "c = confusion_matrix(test_y, y_pred)\n",
    "print(\"Accuracy:\", accuracy)\n",
    "print(\"Precision:\", precision)\n",
    "print(\"Recall:\", recall)\n",
    "print(\"F1 Score:\", f1)\n",
    "print(\"AUC Score:\", auc)\n",
    "print(c)"
   ]
  },
  {
   "cell_type": "markdown",
   "id": "488b9fe9",
   "metadata": {},
   "source": [
    "# Adaboost"
   ]
  },
  {
   "cell_type": "code",
   "execution_count": 62,
   "id": "de87e304",
   "metadata": {},
   "outputs": [
    {
     "data": {
      "text/plain": [
       "AdaBoostClassifier()"
      ]
     },
     "execution_count": 62,
     "metadata": {},
     "output_type": "execute_result"
    }
   ],
   "source": [
    "model = AdaBoostClassifier()\n",
    "model.fit(train_x , train_y)"
   ]
  },
  {
   "cell_type": "code",
   "execution_count": 63,
   "id": "c9bf4e4c",
   "metadata": {},
   "outputs": [],
   "source": [
    "y_pred = model.predict(test_x)"
   ]
  },
  {
   "cell_type": "code",
   "execution_count": 64,
   "id": "e71d2d3d",
   "metadata": {},
   "outputs": [
    {
     "name": "stdout",
     "output_type": "stream",
     "text": [
      "Accuracy: 0.9008306709265176\n",
      "Precision: 0.9059749884205651\n",
      "Recall: 0.91359177954227\n",
      "F1 Score: 0.9097674418604651\n",
      "AUC Score: 0.8994998130000371\n",
      "[[3137  406]\n",
      " [ 370 3912]]\n"
     ]
    }
   ],
   "source": [
    "accuracy = accuracy_score(test_y, y_pred)\n",
    "precision = precision_score(test_y, y_pred)\n",
    "recall = recall_score(test_y, y_pred)\n",
    "f1 = f1_score(test_y, y_pred)\n",
    "auc = roc_auc_score(test_y, y_pred)\n",
    "c = confusion_matrix(test_y, y_pred)\n",
    "print(\"Accuracy:\", accuracy)\n",
    "print(\"Precision:\", precision)\n",
    "print(\"Recall:\", recall)\n",
    "print(\"F1 Score:\", f1)\n",
    "print(\"AUC Score:\", auc)\n",
    "print(c)"
   ]
  },
  {
   "cell_type": "markdown",
   "id": "887fc169",
   "metadata": {},
   "source": [
    "# combine 3 algorithm"
   ]
  },
  {
   "cell_type": "code",
   "execution_count": 65,
   "id": "2874807c",
   "metadata": {},
   "outputs": [],
   "source": [
    "X, y = make_classification(n_samples=1000, n_features=10, n_classes=2, random_state=42)"
   ]
  },
  {
   "cell_type": "code",
   "execution_count": 66,
   "id": "b228dd54",
   "metadata": {},
   "outputs": [],
   "source": [
    "X_train, X_test, y_train, y_test = train_test_split(X, y, test_size=0.3, random_state=42)"
   ]
  },
  {
   "cell_type": "code",
   "execution_count": 67,
   "id": "54eae09b",
   "metadata": {},
   "outputs": [],
   "source": [
    "clf1 = LogisticRegression(random_state=1)\n",
    "clf2 = DecisionTreeClassifier(max_depth=3, random_state=1)\n",
    "clf3 = KNeighborsClassifier(n_neighbors=7)"
   ]
  },
  {
   "cell_type": "code",
   "execution_count": 68,
   "id": "55f75f0b",
   "metadata": {},
   "outputs": [],
   "source": [
    "ensemble = VotingClassifier(estimators=[('lr', clf1), ('dt', clf2), ('knn', clf3)], voting='hard')\n"
   ]
  },
  {
   "cell_type": "code",
   "execution_count": 69,
   "id": "23b8e35e",
   "metadata": {},
   "outputs": [
    {
     "data": {
      "text/plain": [
       "VotingClassifier(estimators=[('lr', LogisticRegression(random_state=1)),\n",
       "                             ('dt',\n",
       "                              DecisionTreeClassifier(max_depth=3,\n",
       "                                                     random_state=1)),\n",
       "                             ('knn', KNeighborsClassifier(n_neighbors=7))])"
      ]
     },
     "execution_count": 69,
     "metadata": {},
     "output_type": "execute_result"
    }
   ],
   "source": [
    "ensemble.fit(X_train, y_train)"
   ]
  },
  {
   "cell_type": "code",
   "execution_count": 70,
   "id": "ff56fc3c",
   "metadata": {},
   "outputs": [
    {
     "name": "stderr",
     "output_type": "stream",
     "text": [
      "C:\\ProgramData\\Anaconda3\\lib\\site-packages\\sklearn\\neighbors\\_classification.py:228: FutureWarning: Unlike other reduction functions (e.g. `skew`, `kurtosis`), the default behavior of `mode` typically preserves the axis it acts along. In SciPy 1.11.0, this behavior will change: the default value of `keepdims` will become False, the `axis` over which the statistic is taken will be eliminated, and the value None will no longer be accepted. Set `keepdims` to True or False to avoid this warning.\n",
      "  mode, _ = stats.mode(_y[neigh_ind, k], axis=1)\n"
     ]
    }
   ],
   "source": [
    "y_pred = ensemble.predict(X_test)\n"
   ]
  },
  {
   "cell_type": "code",
   "execution_count": 71,
   "id": "aed126ae",
   "metadata": {},
   "outputs": [
    {
     "name": "stdout",
     "output_type": "stream",
     "text": [
      "Accuracy: 0.8533333333333334\n"
     ]
    }
   ],
   "source": [
    "accuracy = accuracy_score(y_test, y_pred)\n",
    "print(\"Accuracy:\", accuracy)\n"
   ]
  },
  {
   "cell_type": "code",
   "execution_count": null,
   "id": "a3f9f573",
   "metadata": {},
   "outputs": [],
   "source": []
  },
  {
   "cell_type": "markdown",
   "id": "5f92197a",
   "metadata": {},
   "source": [
    "# Decesion Tree tuning"
   ]
  },
  {
   "cell_type": "code",
   "execution_count": 72,
   "id": "a9b7ab56",
   "metadata": {},
   "outputs": [],
   "source": [
    "from sklearn.model_selection import RandomizedSearchCV"
   ]
  },
  {
   "cell_type": "code",
   "execution_count": 73,
   "id": "f6665a84",
   "metadata": {},
   "outputs": [
    {
     "name": "stdout",
     "output_type": "stream",
     "text": [
      "{'max_depth': (10, 30, 50, 70, 90, 100), 'criterion': ('gini', 'entropy'), 'max_features': ('auto', 'sqrt', 'log2'), 'min_samples_split': (2, 4, 6)}\n"
     ]
    }
   ],
   "source": [
    "parameters = { 'max_depth' : (10,30,50,70,90,100)\n",
    "              ,'criterion' : ('gini', 'entropy')\n",
    "              ,'max_features' : ('auto', 'sqrt', 'log2')\n",
    "              ,'min_samples_split' : (2,4,6)\n",
    "    \n",
    "}\n",
    "print(parameters)"
   ]
  },
  {
   "cell_type": "code",
   "execution_count": 74,
   "id": "c5a3d97a",
   "metadata": {},
   "outputs": [],
   "source": [
    "dt =  RandomizedSearchCV(DecisionTreeClassifier(), param_distributions = parameters, cv=5, verbose = True)"
   ]
  },
  {
   "cell_type": "code",
   "execution_count": 75,
   "id": "657f60b5",
   "metadata": {},
   "outputs": [
    {
     "name": "stdout",
     "output_type": "stream",
     "text": [
      "Fitting 5 folds for each of 10 candidates, totalling 50 fits\n"
     ]
    },
    {
     "data": {
      "text/plain": [
       "RandomizedSearchCV(cv=5, estimator=DecisionTreeClassifier(),\n",
       "                   param_distributions={'criterion': ('gini', 'entropy'),\n",
       "                                        'max_depth': (10, 30, 50, 70, 90, 100),\n",
       "                                        'max_features': ('auto', 'sqrt',\n",
       "                                                         'log2'),\n",
       "                                        'min_samples_split': (2, 4, 6)},\n",
       "                   verbose=True)"
      ]
     },
     "execution_count": 75,
     "metadata": {},
     "output_type": "execute_result"
    }
   ],
   "source": [
    "dt.fit(train_x , train_y)"
   ]
  },
  {
   "cell_type": "code",
   "execution_count": 76,
   "id": "971fa824",
   "metadata": {},
   "outputs": [
    {
     "data": {
      "text/plain": [
       "DecisionTreeClassifier(criterion='entropy', max_depth=100, max_features='log2')"
      ]
     },
     "execution_count": 76,
     "metadata": {},
     "output_type": "execute_result"
    }
   ],
   "source": [
    "dt.best_estimator_"
   ]
  },
  {
   "cell_type": "code",
   "execution_count": 77,
   "id": "39abfb63",
   "metadata": {},
   "outputs": [
    {
     "data": {
      "text/plain": [
       "0.999890455974942"
      ]
     },
     "execution_count": 77,
     "metadata": {},
     "output_type": "execute_result"
    }
   ],
   "source": [
    "dt.best_score_"
   ]
  },
  {
   "cell_type": "code",
   "execution_count": 78,
   "id": "ef9a91a0",
   "metadata": {},
   "outputs": [
    {
     "data": {
      "text/plain": [
       "{'min_samples_split': 2,\n",
       " 'max_features': 'log2',\n",
       " 'max_depth': 100,\n",
       " 'criterion': 'entropy'}"
      ]
     },
     "execution_count": 78,
     "metadata": {},
     "output_type": "execute_result"
    }
   ],
   "source": [
    "dt.best_params_"
   ]
  },
  {
   "cell_type": "code",
   "execution_count": 79,
   "id": "e0301e10",
   "metadata": {},
   "outputs": [
    {
     "data": {
      "text/plain": [
       "DecisionTreeClassifier(max_depth=10, max_features='log2', min_samples_split=6)"
      ]
     },
     "execution_count": 79,
     "metadata": {},
     "output_type": "execute_result"
    }
   ],
   "source": [
    "DT_Model = DecisionTreeClassifier(max_depth=10, max_features='log2', min_samples_split=6) \n",
    "\n",
    "\n",
    "DT_Model.fit(train_x , train_y)"
   ]
  },
  {
   "cell_type": "code",
   "execution_count": 80,
   "id": "ef019faa",
   "metadata": {},
   "outputs": [
    {
     "name": "stdout",
     "output_type": "stream",
     "text": [
      "Train Accuracy - :  0.981\n"
     ]
    }
   ],
   "source": [
    "print (f'Train Accuracy - : {DT_Model.score(train_x , train_y): .3f}')\n"
   ]
  },
  {
   "cell_type": "code",
   "execution_count": 81,
   "id": "a45dfe71",
   "metadata": {},
   "outputs": [
    {
     "name": "stdout",
     "output_type": "stream",
     "text": [
      "Test Accuracy - :  0.981\n"
     ]
    }
   ],
   "source": [
    "print (f'Test Accuracy - : {DT_Model.score(train_x , train_y): .3f}')"
   ]
  },
  {
   "cell_type": "markdown",
   "id": "d63ff558",
   "metadata": {},
   "source": [
    "#  Random Forest Tuning"
   ]
  },
  {
   "cell_type": "code",
   "execution_count": 82,
   "id": "e9c395cd",
   "metadata": {},
   "outputs": [],
   "source": [
    "from sklearn.model_selection import GridSearchCV\n"
   ]
  },
  {
   "cell_type": "code",
   "execution_count": 83,
   "id": "16f232c6",
   "metadata": {},
   "outputs": [
    {
     "name": "stdout",
     "output_type": "stream",
     "text": [
      "{'n_estimators': [25, 50, 100, 150], 'max_features': ['sqrt', 'log2', None], 'max_depth': [3, 6, 9], 'max_leaf_nodes': [3, 6, 9]}\n"
     ]
    }
   ],
   "source": [
    "param_grid = {\n",
    "    'n_estimators': [25, 50, 100, 150],\n",
    "    'max_features': ['sqrt', 'log2', None],\n",
    "    'max_depth': [3, 6, 9],\n",
    "    'max_leaf_nodes': [3, 6, 9],\n",
    "}\n",
    "print(param_grid)"
   ]
  },
  {
   "cell_type": "code",
   "execution_count": 84,
   "id": "1996a876",
   "metadata": {},
   "outputs": [
    {
     "name": "stdout",
     "output_type": "stream",
     "text": [
      "Fitting 2 folds for each of 108 candidates, totalling 216 fits\n"
     ]
    },
    {
     "data": {
      "text/plain": [
       "GridSearchCV(cv=2, estimator=RandomForestClassifier(),\n",
       "             param_grid={'max_depth': [3, 6, 9],\n",
       "                         'max_features': ['sqrt', 'log2', None],\n",
       "                         'max_leaf_nodes': [3, 6, 9],\n",
       "                         'n_estimators': [25, 50, 100, 150]},\n",
       "             verbose=True)"
      ]
     },
     "execution_count": 84,
     "metadata": {},
     "output_type": "execute_result"
    }
   ],
   "source": [
    "dt =  GridSearchCV(RandomForestClassifier(), param_grid = param_grid, cv=2, verbose = True)\n",
    "\n",
    "dt.fit(train_x , train_y)\n"
   ]
  },
  {
   "cell_type": "code",
   "execution_count": 85,
   "id": "306d8a14",
   "metadata": {},
   "outputs": [
    {
     "data": {
      "text/plain": [
       "RandomForestClassifier(max_depth=6, max_features='sqrt', max_leaf_nodes=9,\n",
       "                       n_estimators=150)"
      ]
     },
     "execution_count": 85,
     "metadata": {},
     "output_type": "execute_result"
    }
   ],
   "source": [
    "dt.best_estimator_"
   ]
  },
  {
   "cell_type": "code",
   "execution_count": 86,
   "id": "0482d479",
   "metadata": {},
   "outputs": [
    {
     "data": {
      "text/plain": [
       "0.8961551100887282"
      ]
     },
     "execution_count": 86,
     "metadata": {},
     "output_type": "execute_result"
    }
   ],
   "source": [
    "dt.best_score_"
   ]
  },
  {
   "cell_type": "code",
   "execution_count": 87,
   "id": "13812fc0",
   "metadata": {},
   "outputs": [
    {
     "data": {
      "text/plain": [
       "{'max_depth': 6,\n",
       " 'max_features': 'sqrt',\n",
       " 'max_leaf_nodes': 9,\n",
       " 'n_estimators': 150}"
      ]
     },
     "execution_count": 87,
     "metadata": {},
     "output_type": "execute_result"
    }
   ],
   "source": [
    "dt.best_params_"
   ]
  },
  {
   "cell_type": "code",
   "execution_count": 88,
   "id": "37874a01",
   "metadata": {},
   "outputs": [
    {
     "name": "stdout",
     "output_type": "stream",
     "text": [
      "Train Accuracy - :  0.886\n"
     ]
    }
   ],
   "source": [
    "print (f'Train Accuracy - : {dt.score(train_x , train_y): .3f}')"
   ]
  },
  {
   "cell_type": "code",
   "execution_count": 89,
   "id": "7a1b6e99",
   "metadata": {},
   "outputs": [
    {
     "name": "stdout",
     "output_type": "stream",
     "text": [
      "Test Accuracy - :  0.886\n"
     ]
    }
   ],
   "source": [
    "print (f'Test Accuracy - : {dt.score(train_x , train_y): .3f}')"
   ]
  },
  {
   "cell_type": "markdown",
   "id": "c2d8faf9",
   "metadata": {},
   "source": [
    "# XGBoost Tuning"
   ]
  },
  {
   "cell_type": "code",
   "execution_count": 90,
   "id": "66ebd71c",
   "metadata": {},
   "outputs": [],
   "source": [
    "from sklearn.model_selection import RandomizedSearchCV"
   ]
  },
  {
   "cell_type": "code",
   "execution_count": 91,
   "id": "8c5e8515",
   "metadata": {},
   "outputs": [
    {
     "name": "stdout",
     "output_type": "stream",
     "text": [
      "{'learning_rate': [0.001, 0.01, 0.1, 0.25, 0.5, 0.4], 'max_depth': [1, 2, 3, 4, 5, 6], 'max_features': [1, 2, 3, 4, 5, 6], 'n_estimators': [20, 40, 50, 70, 100]}\n"
     ]
    }
   ],
   "source": [
    "parameters = {'learning_rate':[0.001,0.01,0.1,0.25,0.5,0.4],\n",
    "              'max_depth' : [1,2,3,4,5,6]\n",
    "              ,'max_features' : [1,2,3,4,5,6]\n",
    "              ,'n_estimators' :[20,40,50,70,100]\n",
    "    \n",
    "}\n",
    "print(parameters)"
   ]
  },
  {
   "cell_type": "code",
   "execution_count": 92,
   "id": "ca48aef5",
   "metadata": {},
   "outputs": [],
   "source": [
    "xg =  RandomizedSearchCV(XGBClassifier(), param_distributions = parameters, cv=5, verbose = 0,n_jobs=-1)"
   ]
  },
  {
   "cell_type": "code",
   "execution_count": 93,
   "id": "8df988a2",
   "metadata": {},
   "outputs": [
    {
     "name": "stdout",
     "output_type": "stream",
     "text": [
      "[12:15:33] WARNING: C:\\buildkite-agent\\builds\\buildkite-windows-cpu-autoscaling-group-i-07593ffd91cd9da33-1\\xgboost\\xgboost-ci-windows\\src\\learner.cc:767: \n",
      "Parameters: { \"max_features\" } are not used.\n",
      "\n"
     ]
    },
    {
     "data": {
      "text/plain": [
       "RandomizedSearchCV(cv=5,\n",
       "                   estimator=XGBClassifier(base_score=None, booster=None,\n",
       "                                           callbacks=None,\n",
       "                                           colsample_bylevel=None,\n",
       "                                           colsample_bynode=None,\n",
       "                                           colsample_bytree=None,\n",
       "                                           early_stopping_rounds=None,\n",
       "                                           enable_categorical=False,\n",
       "                                           eval_metric=None, feature_types=None,\n",
       "                                           gamma=None, gpu_id=None,\n",
       "                                           grow_policy=None,\n",
       "                                           importance_type=None,\n",
       "                                           interaction_constraints=None,\n",
       "                                           learning_rate...\n",
       "                                           max_delta_step=None, max_depth=None,\n",
       "                                           max_leaves=None,\n",
       "                                           min_child_weight=None, missing=nan,\n",
       "                                           monotone_constraints=None,\n",
       "                                           n_estimators=100, n_jobs=None,\n",
       "                                           num_parallel_tree=None,\n",
       "                                           predictor=None, random_state=None, ...),\n",
       "                   n_jobs=-1,\n",
       "                   param_distributions={'learning_rate': [0.001, 0.01, 0.1,\n",
       "                                                          0.25, 0.5, 0.4],\n",
       "                                        'max_depth': [1, 2, 3, 4, 5, 6],\n",
       "                                        'max_features': [1, 2, 3, 4, 5, 6],\n",
       "                                        'n_estimators': [20, 40, 50, 70, 100]})"
      ]
     },
     "execution_count": 93,
     "metadata": {},
     "output_type": "execute_result"
    }
   ],
   "source": [
    "xg.fit(train_x , train_y)"
   ]
  },
  {
   "cell_type": "code",
   "execution_count": 94,
   "id": "58cf70a4",
   "metadata": {},
   "outputs": [
    {
     "data": {
      "text/plain": [
       "XGBClassifier(base_score=None, booster=None, callbacks=None,\n",
       "              colsample_bylevel=None, colsample_bynode=None,\n",
       "              colsample_bytree=None, early_stopping_rounds=None,\n",
       "              enable_categorical=False, eval_metric=None, feature_types=None,\n",
       "              gamma=None, gpu_id=None, grow_policy=None, importance_type=None,\n",
       "              interaction_constraints=None, learning_rate=0.5, max_bin=None,\n",
       "              max_cat_threshold=None, max_cat_to_onehot=None,\n",
       "              max_delta_step=None, max_depth=4, max_features=4, max_leaves=None,\n",
       "              min_child_weight=None, missing=nan, monotone_constraints=None,\n",
       "              n_estimators=100, n_jobs=None, num_parallel_tree=None,\n",
       "              predictor=None, ...)"
      ]
     },
     "execution_count": 94,
     "metadata": {},
     "output_type": "execute_result"
    }
   ],
   "source": [
    "xg.best_estimator_"
   ]
  },
  {
   "cell_type": "code",
   "execution_count": 95,
   "id": "45e32f0b",
   "metadata": {},
   "outputs": [
    {
     "data": {
      "text/plain": [
       "1.0"
      ]
     },
     "execution_count": 95,
     "metadata": {},
     "output_type": "execute_result"
    }
   ],
   "source": [
    "xg.best_score_"
   ]
  },
  {
   "cell_type": "code",
   "execution_count": 96,
   "id": "68a124f8",
   "metadata": {},
   "outputs": [
    {
     "data": {
      "text/plain": [
       "{'max_depth': 6,\n",
       " 'max_features': 'sqrt',\n",
       " 'max_leaf_nodes': 9,\n",
       " 'n_estimators': 150}"
      ]
     },
     "execution_count": 96,
     "metadata": {},
     "output_type": "execute_result"
    }
   ],
   "source": [
    "dt.best_params_"
   ]
  },
  {
   "cell_type": "code",
   "execution_count": 97,
   "id": "659437df",
   "metadata": {},
   "outputs": [
    {
     "name": "stdout",
     "output_type": "stream",
     "text": [
      "Train Accuracy - :  1.000\n"
     ]
    }
   ],
   "source": [
    "print (f'Train Accuracy - : {xg.score(train_x , train_y): .3f}')"
   ]
  },
  {
   "cell_type": "code",
   "execution_count": 98,
   "id": "64ec4829",
   "metadata": {},
   "outputs": [
    {
     "name": "stdout",
     "output_type": "stream",
     "text": [
      "Test Accuracy - :  1.000\n"
     ]
    }
   ],
   "source": [
    "print (f'Test Accuracy - : {xg.score(train_x , train_y): .3f}')"
   ]
  },
  {
   "cell_type": "markdown",
   "id": "0346fe0b",
   "metadata": {},
   "source": [
    "# AdaBoost Classifier"
   ]
  },
  {
   "cell_type": "code",
   "execution_count": 99,
   "id": "088ac0b2",
   "metadata": {},
   "outputs": [],
   "source": [
    "from sklearn.model_selection import GridSearchCV"
   ]
  },
  {
   "cell_type": "code",
   "execution_count": 100,
   "id": "00e619ab",
   "metadata": {},
   "outputs": [
    {
     "name": "stdout",
     "output_type": "stream",
     "text": [
      "{'n_estimators': [10, 20, 100, 500], 'learning_rate': [0.0001, 0.001, 0.01, 0.1, 1.0]}\n"
     ]
    }
   ],
   "source": [
    "param_grid = {\n",
    "    'n_estimators': [10,20,100,500],\n",
    "    'learning_rate' : [0.0001,0.001,0.01,0.1,1.0]\n",
    "}\n",
    "print(param_grid)"
   ]
  },
  {
   "cell_type": "code",
   "execution_count": 101,
   "id": "405f15d8",
   "metadata": {},
   "outputs": [
    {
     "name": "stdout",
     "output_type": "stream",
     "text": [
      "Fitting 10 folds for each of 20 candidates, totalling 200 fits\n"
     ]
    },
    {
     "data": {
      "text/plain": [
       "GridSearchCV(cv=10, estimator=AdaBoostClassifier(), n_jobs=-1,\n",
       "             param_grid={'learning_rate': [0.0001, 0.001, 0.01, 0.1, 1.0],\n",
       "                         'n_estimators': [10, 20, 100, 500]},\n",
       "             verbose=True)"
      ]
     },
     "execution_count": 101,
     "metadata": {},
     "output_type": "execute_result"
    }
   ],
   "source": [
    "dt =  GridSearchCV(estimator = AdaBoostClassifier(), param_grid = param_grid, cv=10,n_jobs=-1, verbose = True)\n",
    "\n",
    "dt.fit(train_x , train_y)\n"
   ]
  },
  {
   "cell_type": "code",
   "execution_count": 102,
   "id": "c2b1f1d2",
   "metadata": {},
   "outputs": [
    {
     "data": {
      "text/plain": [
       "AdaBoostClassifier(n_estimators=500)"
      ]
     },
     "execution_count": 102,
     "metadata": {},
     "output_type": "execute_result"
    }
   ],
   "source": [
    "dt.best_estimator_"
   ]
  },
  {
   "cell_type": "code",
   "execution_count": 103,
   "id": "f80ca5bc",
   "metadata": {},
   "outputs": [
    {
     "data": {
      "text/plain": [
       "0.9901957418715959"
      ]
     },
     "execution_count": 103,
     "metadata": {},
     "output_type": "execute_result"
    }
   ],
   "source": [
    "dt.best_score_"
   ]
  },
  {
   "cell_type": "code",
   "execution_count": 104,
   "id": "66d1f630",
   "metadata": {},
   "outputs": [
    {
     "data": {
      "text/plain": [
       "{'learning_rate': 1.0, 'n_estimators': 500}"
      ]
     },
     "execution_count": 104,
     "metadata": {},
     "output_type": "execute_result"
    }
   ],
   "source": [
    "dt.best_params_"
   ]
  },
  {
   "cell_type": "code",
   "execution_count": 105,
   "id": "21f55687",
   "metadata": {},
   "outputs": [
    {
     "name": "stdout",
     "output_type": "stream",
     "text": [
      "Train Accuracy - :  0.990\n"
     ]
    }
   ],
   "source": [
    "print (f'Train Accuracy - : {dt.score(train_x , train_y): .3f}')"
   ]
  },
  {
   "cell_type": "code",
   "execution_count": 106,
   "id": "540beb43",
   "metadata": {},
   "outputs": [
    {
     "name": "stdout",
     "output_type": "stream",
     "text": [
      "Test Accuracy - :  0.990\n"
     ]
    }
   ],
   "source": [
    "print (f'Test Accuracy - : {dt.score(train_x , train_y): .3f}')"
   ]
  },
  {
   "cell_type": "markdown",
   "id": "57ce9202",
   "metadata": {},
   "source": [
    "# Support vector machine tuning\n"
   ]
  },
  {
   "cell_type": "code",
   "execution_count": 107,
   "id": "9cc5bfe2",
   "metadata": {},
   "outputs": [],
   "source": [
    "from sklearn.model_selection import GridSearchCV\n",
    "from sklearn.svm import SVC"
   ]
  },
  {
   "cell_type": "code",
   "execution_count": 108,
   "id": "f695b298",
   "metadata": {},
   "outputs": [
    {
     "name": "stdout",
     "output_type": "stream",
     "text": [
      "{'C': [0.1, 1.0, 10.0, 100.0, 1000.0, 10000.0, 100000.0], 'kernel': ['rbf', 'poly'], 'gamma': [1e-05, 0.0001, 0.001, 0.01, 0.1, 1.0]}\n"
     ]
    }
   ],
   "source": [
    "param_grid = {\n",
    "    'C' : [0.1, 1.0, 10.0,100.0,1000.0,10000.0,100000.0],\n",
    "   'kernel' : ['rbf', 'poly'],\n",
    "    'gamma' :[0.00001, 0.0001,0.001,0.01,0.1,1.0]\n",
    "}\n",
    "\n",
    "print(param_grid)"
   ]
  },
  {
   "cell_type": "code",
   "execution_count": null,
   "id": "e27cd011",
   "metadata": {},
   "outputs": [
    {
     "name": "stdout",
     "output_type": "stream",
     "text": [
      "Fitting 2 folds for each of 84 candidates, totalling 168 fits\n"
     ]
    }
   ],
   "source": [
    "grid = GridSearchCV(SVC(), param_grid = param_grid, cv = 2, verbose = True)\n",
    "grid.fit(train_x , train_y)"
   ]
  },
  {
   "cell_type": "code",
   "execution_count": null,
   "id": "8c04f7ed",
   "metadata": {},
   "outputs": [],
   "source": [
    "grid.best_estimator_"
   ]
  },
  {
   "cell_type": "code",
   "execution_count": null,
   "id": "3942021e",
   "metadata": {},
   "outputs": [],
   "source": [
    "grid.best_score_"
   ]
  },
  {
   "cell_type": "code",
   "execution_count": null,
   "id": "6165ef9c",
   "metadata": {},
   "outputs": [],
   "source": [
    "grid.best_params_"
   ]
  },
  {
   "cell_type": "code",
   "execution_count": null,
   "id": "5054216b",
   "metadata": {},
   "outputs": [],
   "source": [
    "print (f'Train Accuracy - : {grid.score(train_x , train_y): .3f}')"
   ]
  },
  {
   "cell_type": "code",
   "execution_count": null,
   "id": "8f3f4caa",
   "metadata": {},
   "outputs": [],
   "source": [
    "print (f'Test Accuracy - : {grid.score(train_x , train_y): .3f}')"
   ]
  },
  {
   "cell_type": "code",
   "execution_count": null,
   "id": "32d5103a",
   "metadata": {},
   "outputs": [],
   "source": []
  },
  {
   "cell_type": "code",
   "execution_count": null,
   "id": "bd11441b",
   "metadata": {},
   "outputs": [],
   "source": []
  },
  {
   "cell_type": "code",
   "execution_count": null,
   "id": "7a988fc2",
   "metadata": {},
   "outputs": [],
   "source": []
  },
  {
   "cell_type": "code",
   "execution_count": null,
   "id": "711fdb1d",
   "metadata": {},
   "outputs": [],
   "source": []
  }
 ],
 "metadata": {
  "kernelspec": {
   "display_name": "Python 3 (ipykernel)",
   "language": "python",
   "name": "python3"
  },
  "language_info": {
   "codemirror_mode": {
    "name": "ipython",
    "version": 3
   },
   "file_extension": ".py",
   "mimetype": "text/x-python",
   "name": "python",
   "nbconvert_exporter": "python",
   "pygments_lexer": "ipython3",
   "version": "3.9.13"
  }
 },
 "nbformat": 4,
 "nbformat_minor": 5
}
